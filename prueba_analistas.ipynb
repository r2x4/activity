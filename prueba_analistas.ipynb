{
 "cells": [
  {
   "cell_type": "markdown",
   "id": "e1aa7c5b-31c3-4db1-b3bf-8011e3b29cea",
   "metadata": {},
   "source": [
    "# **Prueba Analistas**"
   ]
  },
  {
   "cell_type": "code",
   "execution_count": 1,
   "id": "825a93dc-e186-4e73-a044-1071e53f2c9a",
   "metadata": {},
   "outputs": [
    {
     "name": "stdout",
     "output_type": "stream",
     "text": [
      "(105388, 1)\n",
      "  REGIONAL,CIUDAD,CODTRABAJO,FECHA,CUENTA,ORDEN,CANTIDAD,NOMBRE TECNICO REAL,CEDULA TECNICO REAL,TIPO_TRABAJO,PRECIO DE TRABAJO,TIPO DE MOVIL,ESQUEMA DE TRABAJO,COORDINADOR\n",
      "0  CENTRO,BOGOTA,VENTEC,01/07/2023,15589183,38053...                                                                                                                        \n",
      "1  CENTRO,BOGOTA,NROUTER,01/07/2023,15434166,3805...                                                                                                                        \n",
      "2  CENTRO,BOGOTA,NROUTER,01/07/2023,15581974,3805...                                                                                                                        \n",
      "3  CENTRO,BOGOTA,NROUTER,01/07/2023,15634211,3805...                                                                                                                        \n",
      "4  CENTRO,BOGOTA,NROUTER,01/07/2023,15589183,3805...                                                                                                                        \n"
     ]
    }
   ],
   "source": [
    "# importar los datos\n",
    "\n",
    "import pandas as pd\n",
    "import numpy as np\n",
    "\n",
    "# Probar con una codificación diferente\n",
    "datos = pd.read_csv('analista_de_operaciones.csv', delimiter=';', encoding='latin1', header=0)\n",
    "\n",
    "print(datos.shape)\n",
    "print(datos.head())\n"
   ]
  },
  {
   "cell_type": "code",
   "execution_count": 2,
   "id": "6cf679c6-cab0-445c-b16a-c00b9ffb3fb4",
   "metadata": {},
   "outputs": [
    {
     "data": {
      "text/plain": [
       "pandas.core.frame.DataFrame"
      ]
     },
     "execution_count": 2,
     "metadata": {},
     "output_type": "execute_result"
    }
   ],
   "source": [
    "# tipo de datos\n",
    "\n",
    "type(datos)"
   ]
  },
  {
   "cell_type": "code",
   "execution_count": 3,
   "id": "89b7c7fe-5170-4a32-901f-aac60b86d6a9",
   "metadata": {},
   "outputs": [
    {
     "data": {
      "text/plain": [
       "(105388, 1)"
      ]
     },
     "execution_count": 3,
     "metadata": {},
     "output_type": "execute_result"
    }
   ],
   "source": [
    "# cantidad de datos \n",
    "\n",
    "datos.shape"
   ]
  },
  {
   "cell_type": "code",
   "execution_count": 4,
   "id": "e3ec7e15-93fb-4cae-9479-026116497fb9",
   "metadata": {},
   "outputs": [
    {
     "data": {
      "text/plain": [
       "Index(['REGIONAL,CIUDAD,CODTRABAJO,FECHA,CUENTA,ORDEN,CANTIDAD,NOMBRE TECNICO REAL,CEDULA TECNICO REAL,TIPO_TRABAJO,PRECIO DE TRABAJO,TIPO DE MOVIL,ESQUEMA DE TRABAJO,COORDINADOR'], dtype='object')"
      ]
     },
     "execution_count": 4,
     "metadata": {},
     "output_type": "execute_result"
    }
   ],
   "source": [
    "# las columnas\n",
    "\n",
    "datos.columns"
   ]
  },
  {
   "cell_type": "markdown",
   "id": "0c73a1d8-5db7-4f4e-8c81-bc28d8ac27f3",
   "metadata": {},
   "source": [
    "## **Promedio Servicio**"
   ]
  },
  {
   "cell_type": "code",
   "execution_count": 5,
   "id": "02b1db54-8e21-48a1-a68d-03293d6eb3bb",
   "metadata": {},
   "outputs": [
    {
     "ename": "KeyError",
     "evalue": "'PRECIO DE TRABAJO'",
     "output_type": "error",
     "traceback": [
      "\u001b[1;31m---------------------------------------------------------------------------\u001b[0m",
      "\u001b[1;31mKeyError\u001b[0m                                  Traceback (most recent call last)",
      "File \u001b[1;32m~\\anaconda3\\Lib\\site-packages\\pandas\\core\\indexes\\base.py:3805\u001b[0m, in \u001b[0;36mIndex.get_loc\u001b[1;34m(self, key)\u001b[0m\n\u001b[0;32m   3804\u001b[0m \u001b[38;5;28;01mtry\u001b[39;00m:\n\u001b[1;32m-> 3805\u001b[0m     \u001b[38;5;28;01mreturn\u001b[39;00m \u001b[38;5;28mself\u001b[39m\u001b[38;5;241m.\u001b[39m_engine\u001b[38;5;241m.\u001b[39mget_loc(casted_key)\n\u001b[0;32m   3806\u001b[0m \u001b[38;5;28;01mexcept\u001b[39;00m \u001b[38;5;167;01mKeyError\u001b[39;00m \u001b[38;5;28;01mas\u001b[39;00m err:\n",
      "File \u001b[1;32mindex.pyx:167\u001b[0m, in \u001b[0;36mpandas._libs.index.IndexEngine.get_loc\u001b[1;34m()\u001b[0m\n",
      "File \u001b[1;32mindex.pyx:196\u001b[0m, in \u001b[0;36mpandas._libs.index.IndexEngine.get_loc\u001b[1;34m()\u001b[0m\n",
      "File \u001b[1;32mpandas\\\\_libs\\\\hashtable_class_helper.pxi:7081\u001b[0m, in \u001b[0;36mpandas._libs.hashtable.PyObjectHashTable.get_item\u001b[1;34m()\u001b[0m\n",
      "File \u001b[1;32mpandas\\\\_libs\\\\hashtable_class_helper.pxi:7089\u001b[0m, in \u001b[0;36mpandas._libs.hashtable.PyObjectHashTable.get_item\u001b[1;34m()\u001b[0m\n",
      "\u001b[1;31mKeyError\u001b[0m: 'PRECIO DE TRABAJO'",
      "\nThe above exception was the direct cause of the following exception:\n",
      "\u001b[1;31mKeyError\u001b[0m                                  Traceback (most recent call last)",
      "Cell \u001b[1;32mIn[5], line 3\u001b[0m\n\u001b[0;32m      1\u001b[0m \u001b[38;5;66;03m# promedio de trabajo\u001b[39;00m\n\u001b[1;32m----> 3\u001b[0m promedio_precio \u001b[38;5;241m=\u001b[39m datos[\u001b[38;5;124m'\u001b[39m\u001b[38;5;124mPRECIO DE TRABAJO\u001b[39m\u001b[38;5;124m'\u001b[39m]\u001b[38;5;241m.\u001b[39mmean()\n\u001b[0;32m      4\u001b[0m promedio_precio\n",
      "File \u001b[1;32m~\\anaconda3\\Lib\\site-packages\\pandas\\core\\frame.py:4102\u001b[0m, in \u001b[0;36mDataFrame.__getitem__\u001b[1;34m(self, key)\u001b[0m\n\u001b[0;32m   4100\u001b[0m \u001b[38;5;28;01mif\u001b[39;00m \u001b[38;5;28mself\u001b[39m\u001b[38;5;241m.\u001b[39mcolumns\u001b[38;5;241m.\u001b[39mnlevels \u001b[38;5;241m>\u001b[39m \u001b[38;5;241m1\u001b[39m:\n\u001b[0;32m   4101\u001b[0m     \u001b[38;5;28;01mreturn\u001b[39;00m \u001b[38;5;28mself\u001b[39m\u001b[38;5;241m.\u001b[39m_getitem_multilevel(key)\n\u001b[1;32m-> 4102\u001b[0m indexer \u001b[38;5;241m=\u001b[39m \u001b[38;5;28mself\u001b[39m\u001b[38;5;241m.\u001b[39mcolumns\u001b[38;5;241m.\u001b[39mget_loc(key)\n\u001b[0;32m   4103\u001b[0m \u001b[38;5;28;01mif\u001b[39;00m is_integer(indexer):\n\u001b[0;32m   4104\u001b[0m     indexer \u001b[38;5;241m=\u001b[39m [indexer]\n",
      "File \u001b[1;32m~\\anaconda3\\Lib\\site-packages\\pandas\\core\\indexes\\base.py:3812\u001b[0m, in \u001b[0;36mIndex.get_loc\u001b[1;34m(self, key)\u001b[0m\n\u001b[0;32m   3807\u001b[0m     \u001b[38;5;28;01mif\u001b[39;00m \u001b[38;5;28misinstance\u001b[39m(casted_key, \u001b[38;5;28mslice\u001b[39m) \u001b[38;5;129;01mor\u001b[39;00m (\n\u001b[0;32m   3808\u001b[0m         \u001b[38;5;28misinstance\u001b[39m(casted_key, abc\u001b[38;5;241m.\u001b[39mIterable)\n\u001b[0;32m   3809\u001b[0m         \u001b[38;5;129;01mand\u001b[39;00m \u001b[38;5;28many\u001b[39m(\u001b[38;5;28misinstance\u001b[39m(x, \u001b[38;5;28mslice\u001b[39m) \u001b[38;5;28;01mfor\u001b[39;00m x \u001b[38;5;129;01min\u001b[39;00m casted_key)\n\u001b[0;32m   3810\u001b[0m     ):\n\u001b[0;32m   3811\u001b[0m         \u001b[38;5;28;01mraise\u001b[39;00m InvalidIndexError(key)\n\u001b[1;32m-> 3812\u001b[0m     \u001b[38;5;28;01mraise\u001b[39;00m \u001b[38;5;167;01mKeyError\u001b[39;00m(key) \u001b[38;5;28;01mfrom\u001b[39;00m \u001b[38;5;21;01merr\u001b[39;00m\n\u001b[0;32m   3813\u001b[0m \u001b[38;5;28;01mexcept\u001b[39;00m \u001b[38;5;167;01mTypeError\u001b[39;00m:\n\u001b[0;32m   3814\u001b[0m     \u001b[38;5;66;03m# If we have a listlike key, _check_indexing_error will raise\u001b[39;00m\n\u001b[0;32m   3815\u001b[0m     \u001b[38;5;66;03m#  InvalidIndexError. Otherwise we fall through and re-raise\u001b[39;00m\n\u001b[0;32m   3816\u001b[0m     \u001b[38;5;66;03m#  the TypeError.\u001b[39;00m\n\u001b[0;32m   3817\u001b[0m     \u001b[38;5;28mself\u001b[39m\u001b[38;5;241m.\u001b[39m_check_indexing_error(key)\n",
      "\u001b[1;31mKeyError\u001b[0m: 'PRECIO DE TRABAJO'"
     ]
    }
   ],
   "source": [
    "# promedio de trabajo\n",
    "\n",
    "promedio_precio = datos['PRECIO DE TRABAJO'].mean()\n",
    "promedio_precio"
   ]
  },
  {
   "cell_type": "code",
   "execution_count": null,
   "id": "bd9a15b6-b108-43e3-aecb-82e08a9d475c",
   "metadata": {},
   "outputs": [],
   "source": []
  }
 ],
 "metadata": {
  "kernelspec": {
   "display_name": "Python 3 (ipykernel)",
   "language": "python",
   "name": "python3"
  },
  "language_info": {
   "codemirror_mode": {
    "name": "ipython",
    "version": 3
   },
   "file_extension": ".py",
   "mimetype": "text/x-python",
   "name": "python",
   "nbconvert_exporter": "python",
   "pygments_lexer": "ipython3",
   "version": "3.12.7"
  }
 },
 "nbformat": 4,
 "nbformat_minor": 5
}
