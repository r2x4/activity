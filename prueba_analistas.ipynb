{
 "cells": [
  {
   "cell_type": "markdown",
   "id": "e1aa7c5b-31c3-4db1-b3bf-8011e3b29cea",
   "metadata": {},
   "source": [
    "# **Prueba Analistas**"
   ]
  },
  {
   "cell_type": "code",
   "execution_count": 1,
   "id": "825a93dc-e186-4e73-a044-1071e53f2c9a",
   "metadata": {},
   "outputs": [
    {
     "name": "stdout",
     "output_type": "stream",
     "text": [
      "(105388, 14)\n",
      "  regional  ciudad codtrabajo       fecha    cuenta      orden  cantidad  \\\n",
      "0   CENTRO  BOGOTA     VENTEC  01/07/2023  15589183  380534979         2   \n",
      "1   CENTRO  BOGOTA    NROUTER  01/07/2023  15434166  380582904         2   \n",
      "2   CENTRO  BOGOTA    NROUTER  01/07/2023  15581974  380597816         2   \n",
      "3   CENTRO  BOGOTA    NROUTER  01/07/2023  15634211  380592700         2   \n",
      "4   CENTRO  BOGOTA    NROUTER  01/07/2023  15589183  380534979         2   \n",
      "\n",
      "                     nombre_tecnico      cedula    tipo_trabajo  \\\n",
      "0         JEISON ADAN MOSQUERA RUIZ  1087782391  VENTAS TECNICO   \n",
      "1  ALEJANDRO MARIO HERNANDEZ PERTUZ  1143432760  VENTAS TECNICO   \n",
      "2         JORGE ENRIQUE RENZA ALVIZ  1130588089  VENTAS TECNICO   \n",
      "3      EYSON FERNANDO IJAJI SAMBONI  1107077888  VENTAS TECNICO   \n",
      "4         JEISON ADAN MOSQUERA RUIZ  1087782391  VENTAS TECNICO   \n",
      "\n",
      "   precio_trabajo  tipo_movil esquema_trabajo  coordinador  \n",
      "0         20028.0  MOTO DOBLE             HFC          NaN  \n",
      "1         33090.0  MOTO DOBLE             HFC          NaN  \n",
      "2         33090.0  MOTO DOBLE             HFC          NaN  \n",
      "3         33090.0  MOTO DOBLE             HFC          NaN  \n",
      "4         33090.0  MOTO DOBLE             HFC          NaN  \n"
     ]
    }
   ],
   "source": [
    "# importar los datos\n",
    "\n",
    "import pandas as pd\n",
    "import numpy as np\n",
    "\n",
    "\n",
    "datos = pd.read_csv('analista_de_operaciones.csv', encoding='latin1', header=0)\n",
    "\n",
    "print(datos.shape)\n",
    "print(datos.head())\n"
   ]
  },
  {
   "cell_type": "code",
   "execution_count": 2,
   "id": "6cf679c6-cab0-445c-b16a-c00b9ffb3fb4",
   "metadata": {},
   "outputs": [
    {
     "data": {
      "text/plain": [
       "pandas.core.frame.DataFrame"
      ]
     },
     "execution_count": 2,
     "metadata": {},
     "output_type": "execute_result"
    }
   ],
   "source": [
    "# tipo de datos\n",
    "\n",
    "type(datos)"
   ]
  },
  {
   "cell_type": "code",
   "execution_count": 3,
   "id": "89b7c7fe-5170-4a32-901f-aac60b86d6a9",
   "metadata": {},
   "outputs": [
    {
     "data": {
      "text/plain": [
       "(105388, 14)"
      ]
     },
     "execution_count": 3,
     "metadata": {},
     "output_type": "execute_result"
    }
   ],
   "source": [
    "# cantidad de datos \n",
    "\n",
    "datos.shape"
   ]
  },
  {
   "cell_type": "code",
   "execution_count": 4,
   "id": "e3ec7e15-93fb-4cae-9479-026116497fb9",
   "metadata": {},
   "outputs": [
    {
     "data": {
      "text/plain": [
       "Index(['regional', 'ciudad', 'codtrabajo', 'fecha', 'cuenta', 'orden',\n",
       "       'cantidad', 'nombre_tecnico', 'cedula', 'tipo_trabajo',\n",
       "       'precio_trabajo', 'tipo_movil', 'esquema_trabajo', 'coordinador'],\n",
       "      dtype='object')"
      ]
     },
     "execution_count": 4,
     "metadata": {},
     "output_type": "execute_result"
    }
   ],
   "source": [
    "# las columnas\n",
    "\n",
    "datos.columns"
   ]
  },
  {
   "cell_type": "code",
   "execution_count": 5,
   "id": "6ed4fdd5-14f1-483a-a15c-bc846adaeee8",
   "metadata": {},
   "outputs": [
    {
     "name": "stdout",
     "output_type": "stream",
     "text": [
      "Index(['regional', 'ciudad', 'codtrabajo', 'fecha', 'cuenta', 'orden',\n",
      "       'cantidad', 'nombre_tecnico', 'cedula', 'tipo_trabajo',\n",
      "       'precio_trabajo', 'tipo_movil', 'esquema_trabajo', 'coordinador'],\n",
      "      dtype='object')\n"
     ]
    }
   ],
   "source": [
    "# Limpiar los nombres de las columnas de posibles espacios en blanco\n",
    "datos.columns = datos.columns.str.strip()\n",
    "\n",
    "# Imprimir los nombres de las columnas nuevamente para verificar\n",
    "print(datos.columns)\n"
   ]
  },
  {
   "cell_type": "markdown",
   "id": "0c73a1d8-5db7-4f4e-8c81-bc28d8ac27f3",
   "metadata": {},
   "source": [
    "## **Promedio Servicio**"
   ]
  },
  {
   "cell_type": "code",
   "execution_count": 6,
   "id": "bd9a15b6-b108-43e3-aecb-82e08a9d475c",
   "metadata": {},
   "outputs": [
    {
     "name": "stdout",
     "output_type": "stream",
     "text": [
      "52897.61\n"
     ]
    }
   ],
   "source": [
    "# promedio de trabajo\n",
    "\n",
    "promedio_precio = round(datos['precio_trabajo'].mean(), 2)\n",
    "print(promedio_precio)\n"
   ]
  },
  {
   "cell_type": "markdown",
   "id": "724a5fe3-1058-4d53-8c61-d205b3e8a820",
   "metadata": {},
   "source": [
    "# **Dataframe Tecnico**"
   ]
  },
  {
   "cell_type": "code",
   "execution_count": 7,
   "id": "e3794f15-d945-44e0-90a1-69e4781d5ec4",
   "metadata": {},
   "outputs": [
    {
     "name": "stdout",
     "output_type": "stream",
     "text": [
      "                        nombre_tecnico  Numero_Servicios  Valor_Total  \\\n",
      "0                     ABISAI GIL GOMEZ               161    8179974.0   \n",
      "1          ACERO LEON EDUARD ALEXANDER               116    4196428.0   \n",
      "2           ACOSTA BOSSA JORGE ELIECER               143    6857306.0   \n",
      "3      ADRIAN ALONSO RINCON AVELLANEDA               191   11548276.0   \n",
      "4    AGUDELO RODRIGUEZ FABIAN ESNEIDER                16     667627.0   \n",
      "..                                 ...               ...          ...   \n",
      "698  YILBER NICOLAS BUITRAGO HERNANDEZ                61    2831577.0   \n",
      "699        YONATHA STID MOGOLLON ANAYA                13     445286.0   \n",
      "700  YONATHAN ARLEY CASTILLO GUTIERREZ                92    9167403.0   \n",
      "701         YORFAN SMITH GUIZA VELASCO               116    8527798.0   \n",
      "702      YORMAN ENRIQUE GONZALEZ PABON               170    6093439.0   \n",
      "\n",
      "    Clasificación  \n",
      "0            MALO  \n",
      "1        MUY MALO  \n",
      "2            MALO  \n",
      "3         REGULAR  \n",
      "4        MUY MALO  \n",
      "..            ...  \n",
      "698      MUY MALO  \n",
      "699      MUY MALO  \n",
      "700          MALO  \n",
      "701          MALO  \n",
      "702          MALO  \n",
      "\n",
      "[703 rows x 4 columns]\n"
     ]
    }
   ],
   "source": [
    "# Agrupar por el nombre del técnico\n",
    "df_tecnico = datos.groupby('nombre_tecnico').agg(\n",
    "    Numero_Servicios=('precio_trabajo', 'count'),\n",
    "    Valor_Total=('precio_trabajo', 'sum')\n",
    ").reset_index()\n",
    "\n",
    "# Agregar la columna de clasificación según el Valor Total\n",
    "def clasificar(valor_total):\n",
    "    if valor_total <= 5000000:\n",
    "        return \"MUY MALO\"\n",
    "    elif valor_total <= 10000000:\n",
    "        return \"MALO\"\n",
    "    elif valor_total <= 15000000:\n",
    "        return \"REGULAR\"\n",
    "    elif valor_total <= 20000000:\n",
    "        return \"BUENO\"\n",
    "    else:\n",
    "        return \"EXCELENTE\"\n",
    "\n",
    "df_tecnico['Clasificación'] = df_tecnico['Valor_Total'].apply(clasificar)\n",
    "\n",
    "# Ver el resultado\n",
    "print(df_tecnico)"
   ]
  },
  {
   "cell_type": "code",
   "execution_count": 8,
   "id": "977e3310-ee51-4c10-af61-b2535a51a5e3",
   "metadata": {},
   "outputs": [
    {
     "name": "stdout",
     "output_type": "stream",
     "text": [
      "Index(['nombre_tecnico', 'Numero_Servicios', 'Valor_Total', 'Clasificación'], dtype='object')\n"
     ]
    }
   ],
   "source": [
    "print(df_tecnico.columns)\n"
   ]
  },
  {
   "cell_type": "markdown",
   "id": "ef0752ae-5404-4ca2-991f-225acf410e86",
   "metadata": {},
   "source": [
    "## **Exportar la tabla**"
   ]
  },
  {
   "cell_type": "code",
   "execution_count": 9,
   "id": "911f1872-908c-4a41-a527-ccaff92843ee",
   "metadata": {},
   "outputs": [],
   "source": [
    "# Exportar la tabla\n",
    "\n",
    "df_tecnico.to_csv('df_tecnico.csv', index=False)"
   ]
  },
  {
   "cell_type": "markdown",
   "id": "a10aca2a-6cd2-4c66-a003-0f63d3b7e7cb",
   "metadata": {},
   "source": [
    "# **Porcentajes y Servicios**"
   ]
  },
  {
   "cell_type": "code",
   "execution_count": 11,
   "id": "d910c9b9-0d6f-4b97-a2dd-9fe4e45029c3",
   "metadata": {},
   "outputs": [
    {
     "name": "stdout",
     "output_type": "stream",
     "text": [
      "esquema_trabajo            FTTH               HFC    FTTH     HFC\n",
      "tipo_movil                                                       \n",
      "CAMIONETA        235,443,776.00     70,477,795.00   4.22%   1.26%\n",
      "MOTO DOBLE       955,828,294.00  2,354,511,815.00  17.15%  42.24%\n",
      "MOTO SENCILLA    111,927,593.00    779,504,820.00   2.01%  13.98%\n",
      "MOTO SENCILLA        118,406.00         77,363.00   0.00%   0.00%\n",
      "MOVIL ARREGLOS   270,721,047.00    780,957,647.00   4.86%  14.01%\n",
      "MOVIL PYMES                0.00     15,205,180.00   0.00%   0.27%\n"
     ]
    }
   ],
   "source": [
    "# Agrupar y calcular totales\n",
    "df_agrupado = datos.groupby(['tipo_movil', 'esquema_trabajo']).agg(\n",
    "    Valor_Total=('precio_trabajo', 'sum')\n",
    ").reset_index()\n",
    "\n",
    "# Calcular el total global para porcentaje\n",
    "total_global = datos['precio_trabajo'].sum()\n",
    "\n",
    "# Calcular porcentaje\n",
    "df_agrupado['Porcentaje'] = (df_agrupado['Valor_Total'] / total_global) * 100\n",
    "\n",
    "# Redondear\n",
    "df_agrupado['Valor_Total'] = df_agrupado['Valor_Total'].round(2)\n",
    "df_agrupado['Porcentaje'] = df_agrupado['Porcentaje'].round(2)\n",
    "\n",
    "# Pivotear\n",
    "tabla_pivot = df_agrupado.pivot(index='tipo_movil', columns='esquema_trabajo', values=['Valor_Total', 'Porcentaje'])\n",
    "\n",
    "# Rellenar NaN con 0\n",
    "tabla_pivot = tabla_pivot.fillna(0)\n",
    "\n",
    "# Formatear los valores\n",
    "tabla_pivot_formateada = tabla_pivot.copy()\n",
    "tabla_pivot_formateada['Valor_Total'] = tabla_pivot['Valor_Total'].map(lambda x: f\"{x:,.2f}\")\n",
    "tabla_pivot_formateada['Porcentaje'] = tabla_pivot['Porcentaje'].map(lambda x: f\"{x:.2f}%\")\n",
    "\n",
    "# Unir los valores formateados\n",
    "tabla_final = pd.concat([tabla_pivot_formateada['Valor_Total'], tabla_pivot_formateada['Porcentaje']], axis=1)\n",
    "\n",
    "# Mostrar tabla final\n",
    "print(tabla_final)"
   ]
  },
  {
   "cell_type": "code",
   "execution_count": 15,
   "id": "43a66ece-afe4-4fef-88f0-f95e76c1f6b5",
   "metadata": {},
   "outputs": [],
   "source": [
    "# segundo excel\n",
    "\n",
    "tabla_final.to_excel('tabla_final.xlsx', index=True)"
   ]
  },
  {
   "cell_type": "markdown",
   "id": "c9d011ae-5fdc-46dd-a634-d2b065a0362e",
   "metadata": {},
   "source": [
    "# **Codtrabajo y Cantidad**\n"
   ]
  },
  {
   "cell_type": "code",
   "execution_count": 16,
   "id": "488ac5ba-fcae-46e1-9ab3-99b5db163cdd",
   "metadata": {},
   "outputs": [
    {
     "name": "stdout",
     "output_type": "stream",
     "text": [
      "    codtrabajo  cantidad  precio_trabajo\n",
      "0      ARTOC95       101       3850827.0\n",
      "1      ARTOC96      8916     349293216.0\n",
      "2      ARTOCNR      1865      65260080.0\n",
      "3    FTARTOC95        10        774040.0\n",
      "4    FTARTOC96      1819     144674165.0\n",
      "..         ...       ...             ...\n",
      "103  PYARTOC95         2        128496.0\n",
      "104  PYARTOC96       288      19012608.0\n",
      "105  PYARTOCNR        58       3418694.0\n",
      "106   REVISITA      2262             0.0\n",
      "107     VENTEC      2433      24364062.0\n",
      "\n",
      "[108 rows x 3 columns]\n"
     ]
    }
   ],
   "source": [
    "# Agrupar por 'codtrabajo' y sumar la cantidad de trabajos\n",
    "df_codtrabajo_cantidad = datos.groupby('codtrabajo').agg({'cantidad': 'sum', 'precio_trabajo': 'sum'}).reset_index()\n",
    "\n",
    "# Mostrar el DataFrame resultante\n",
    "print(df_codtrabajo_cantidad)"
   ]
  },
  {
   "cell_type": "code",
   "execution_count": 17,
   "id": "26d878bf-1e61-4aa9-bba8-5205b46f3dbf",
   "metadata": {},
   "outputs": [],
   "source": [
    "# tercer excel\n",
    "\n",
    "df_codtrabajo_cantidad.to_csv('df_codtrabajo_cantidad.csv', index=False)"
   ]
  },
  {
   "cell_type": "markdown",
   "id": "57bf2693-9006-439a-8689-3b04b700898b",
   "metadata": {},
   "source": [
    "# **Rellenar la columna de Coordinador**"
   ]
  },
  {
   "cell_type": "code",
   "execution_count": 18,
   "id": "0aa53597-955c-42c2-9802-c82cfbf81d0b",
   "metadata": {},
   "outputs": [],
   "source": [
    "referencia_coordinadores = pd.DataFrame({\n",
    "    'ciudad': ['BOGOTA', 'BOGOTA', 'BUCARAMANGA', 'BUCARAMANGA', 'YOPAL', 'YOPAL', 'VILLAVICENCIO', 'VILLAVICENCIO'],\n",
    "    'esquema_trabajo': ['HFC', 'FTTH', 'HFC', 'FTTH', 'HFC', 'FTTH', 'HFC', 'FTTH'],\n",
    "    'coordinador': ['GIOVANNI V', 'JHON T', 'DIEGO S', 'EDINSON Q', 'HUBER M', 'JHON G', 'SERGIO G', 'ANDRES G']\n",
    "})"
   ]
  },
  {
   "cell_type": "code",
   "execution_count": 19,
   "id": "ed9c2047-e844-4660-a6d1-c4d08581398e",
   "metadata": {},
   "outputs": [],
   "source": [
    "# Asegurarse de que los textos estén en mayúscula para que el merge funcione correctamente\n",
    "datos['ciudad'] = datos['ciudad'].str.upper()\n",
    "datos['esquema_trabajo'] = datos['esquema_trabajo'].str.upper()\n"
   ]
  },
  {
   "cell_type": "code",
   "execution_count": 20,
   "id": "d8b9e457-7641-426e-ac4a-a4c92a0da4e5",
   "metadata": {},
   "outputs": [],
   "source": [
    "# Llenar la columna 'coordinador' uniendo por ciudad y esquema de trabajo\n",
    "datos = datos.drop(columns=['coordinador'], errors='ignore')  # eliminar si ya existe vacía\n",
    "datos = datos.merge(referencia_coordinadores, on=['ciudad', 'esquema_trabajo'], how='left')\n"
   ]
  },
  {
   "cell_type": "code",
   "execution_count": 21,
   "id": "45fb477f-d39a-47f7-9a43-1412e494fa43",
   "metadata": {},
   "outputs": [
    {
     "data": {
      "text/html": [
       "<div>\n",
       "<style scoped>\n",
       "    .dataframe tbody tr th:only-of-type {\n",
       "        vertical-align: middle;\n",
       "    }\n",
       "\n",
       "    .dataframe tbody tr th {\n",
       "        vertical-align: top;\n",
       "    }\n",
       "\n",
       "    .dataframe thead th {\n",
       "        text-align: right;\n",
       "    }\n",
       "</style>\n",
       "<table border=\"1\" class=\"dataframe\">\n",
       "  <thead>\n",
       "    <tr style=\"text-align: right;\">\n",
       "      <th></th>\n",
       "      <th>regional</th>\n",
       "      <th>ciudad</th>\n",
       "      <th>codtrabajo</th>\n",
       "      <th>fecha</th>\n",
       "      <th>cuenta</th>\n",
       "      <th>orden</th>\n",
       "      <th>cantidad</th>\n",
       "      <th>nombre_tecnico</th>\n",
       "      <th>cedula</th>\n",
       "      <th>tipo_trabajo</th>\n",
       "      <th>precio_trabajo</th>\n",
       "      <th>tipo_movil</th>\n",
       "      <th>esquema_trabajo</th>\n",
       "      <th>coordinador</th>\n",
       "    </tr>\n",
       "  </thead>\n",
       "  <tbody>\n",
       "    <tr>\n",
       "      <th>0</th>\n",
       "      <td>CENTRO</td>\n",
       "      <td>BOGOTA</td>\n",
       "      <td>VENTEC</td>\n",
       "      <td>01/07/2023</td>\n",
       "      <td>15589183</td>\n",
       "      <td>380534979</td>\n",
       "      <td>2</td>\n",
       "      <td>JEISON ADAN MOSQUERA RUIZ</td>\n",
       "      <td>1087782391</td>\n",
       "      <td>VENTAS TECNICO</td>\n",
       "      <td>20028.0</td>\n",
       "      <td>MOTO DOBLE</td>\n",
       "      <td>HFC</td>\n",
       "      <td>GIOVANNI V</td>\n",
       "    </tr>\n",
       "    <tr>\n",
       "      <th>1</th>\n",
       "      <td>CENTRO</td>\n",
       "      <td>BOGOTA</td>\n",
       "      <td>NROUTER</td>\n",
       "      <td>01/07/2023</td>\n",
       "      <td>15434166</td>\n",
       "      <td>380582904</td>\n",
       "      <td>2</td>\n",
       "      <td>ALEJANDRO MARIO HERNANDEZ PERTUZ</td>\n",
       "      <td>1143432760</td>\n",
       "      <td>VENTAS TECNICO</td>\n",
       "      <td>33090.0</td>\n",
       "      <td>MOTO DOBLE</td>\n",
       "      <td>HFC</td>\n",
       "      <td>GIOVANNI V</td>\n",
       "    </tr>\n",
       "    <tr>\n",
       "      <th>2</th>\n",
       "      <td>CENTRO</td>\n",
       "      <td>BOGOTA</td>\n",
       "      <td>NROUTER</td>\n",
       "      <td>01/07/2023</td>\n",
       "      <td>15581974</td>\n",
       "      <td>380597816</td>\n",
       "      <td>2</td>\n",
       "      <td>JORGE ENRIQUE RENZA ALVIZ</td>\n",
       "      <td>1130588089</td>\n",
       "      <td>VENTAS TECNICO</td>\n",
       "      <td>33090.0</td>\n",
       "      <td>MOTO DOBLE</td>\n",
       "      <td>HFC</td>\n",
       "      <td>GIOVANNI V</td>\n",
       "    </tr>\n",
       "    <tr>\n",
       "      <th>3</th>\n",
       "      <td>CENTRO</td>\n",
       "      <td>BOGOTA</td>\n",
       "      <td>NROUTER</td>\n",
       "      <td>01/07/2023</td>\n",
       "      <td>15634211</td>\n",
       "      <td>380592700</td>\n",
       "      <td>2</td>\n",
       "      <td>EYSON FERNANDO IJAJI SAMBONI</td>\n",
       "      <td>1107077888</td>\n",
       "      <td>VENTAS TECNICO</td>\n",
       "      <td>33090.0</td>\n",
       "      <td>MOTO DOBLE</td>\n",
       "      <td>HFC</td>\n",
       "      <td>GIOVANNI V</td>\n",
       "    </tr>\n",
       "    <tr>\n",
       "      <th>4</th>\n",
       "      <td>CENTRO</td>\n",
       "      <td>BOGOTA</td>\n",
       "      <td>NROUTER</td>\n",
       "      <td>01/07/2023</td>\n",
       "      <td>15589183</td>\n",
       "      <td>380534979</td>\n",
       "      <td>2</td>\n",
       "      <td>JEISON ADAN MOSQUERA RUIZ</td>\n",
       "      <td>1087782391</td>\n",
       "      <td>VENTAS TECNICO</td>\n",
       "      <td>33090.0</td>\n",
       "      <td>MOTO DOBLE</td>\n",
       "      <td>HFC</td>\n",
       "      <td>GIOVANNI V</td>\n",
       "    </tr>\n",
       "    <tr>\n",
       "      <th>...</th>\n",
       "      <td>...</td>\n",
       "      <td>...</td>\n",
       "      <td>...</td>\n",
       "      <td>...</td>\n",
       "      <td>...</td>\n",
       "      <td>...</td>\n",
       "      <td>...</td>\n",
       "      <td>...</td>\n",
       "      <td>...</td>\n",
       "      <td>...</td>\n",
       "      <td>...</td>\n",
       "      <td>...</td>\n",
       "      <td>...</td>\n",
       "      <td>...</td>\n",
       "    </tr>\n",
       "    <tr>\n",
       "      <th>105383</th>\n",
       "      <td>ORIENTE</td>\n",
       "      <td>VILLAVICENCIO</td>\n",
       "      <td>ARTOC96</td>\n",
       "      <td>31/07/2023</td>\n",
       "      <td>24820037</td>\n",
       "      <td>8798206</td>\n",
       "      <td>1</td>\n",
       "      <td>CURREA HERRERA HUGO ALFONSO</td>\n",
       "      <td>1121871475</td>\n",
       "      <td>MANTENIMIENTOS</td>\n",
       "      <td>39176.0</td>\n",
       "      <td>MOVIL ARREGLOS</td>\n",
       "      <td>FTTH</td>\n",
       "      <td>ANDRES G</td>\n",
       "    </tr>\n",
       "    <tr>\n",
       "      <th>105384</th>\n",
       "      <td>CENTRO</td>\n",
       "      <td>BOGOTA</td>\n",
       "      <td>NDESCO</td>\n",
       "      <td>31/07/2023</td>\n",
       "      <td>16170421</td>\n",
       "      <td>381960297</td>\n",
       "      <td>1</td>\n",
       "      <td>CAMILLO SPECIA CARVAJAL</td>\n",
       "      <td>1126625677</td>\n",
       "      <td>DESCONEXIONES</td>\n",
       "      <td>8746.0</td>\n",
       "      <td>MOTO SENCILLA</td>\n",
       "      <td>HFC</td>\n",
       "      <td>GIOVANNI V</td>\n",
       "    </tr>\n",
       "    <tr>\n",
       "      <th>105385</th>\n",
       "      <td>CENTRO</td>\n",
       "      <td>BOGOTA</td>\n",
       "      <td>NFTICTNC</td>\n",
       "      <td>31/07/2023</td>\n",
       "      <td>19680087</td>\n",
       "      <td>382136645</td>\n",
       "      <td>1</td>\n",
       "      <td>DEIMER ALONSO ARTUZ JARAMILLO</td>\n",
       "      <td>1073990828</td>\n",
       "      <td>INSTALACIONES FTTH</td>\n",
       "      <td>178192.0</td>\n",
       "      <td>MOTO DOBLE</td>\n",
       "      <td>FTTH</td>\n",
       "      <td>JHON T</td>\n",
       "    </tr>\n",
       "    <tr>\n",
       "      <th>105386</th>\n",
       "      <td>CENTRO</td>\n",
       "      <td>BOGOTA</td>\n",
       "      <td>NITVCA</td>\n",
       "      <td>31/07/2023</td>\n",
       "      <td>25973369</td>\n",
       "      <td>382203547</td>\n",
       "      <td>1</td>\n",
       "      <td>CARLOS EDUARDO DAJOME VALENCIA</td>\n",
       "      <td>1023952580</td>\n",
       "      <td>INSTALACIONES ALTO VALOR</td>\n",
       "      <td>74622.0</td>\n",
       "      <td>MOTO DOBLE</td>\n",
       "      <td>HFC</td>\n",
       "      <td>GIOVANNI V</td>\n",
       "    </tr>\n",
       "    <tr>\n",
       "      <th>105387</th>\n",
       "      <td>CENTRO</td>\n",
       "      <td>BOGOTA</td>\n",
       "      <td>NTODAT</td>\n",
       "      <td>31/07/2023</td>\n",
       "      <td>19372271</td>\n",
       "      <td>381959575</td>\n",
       "      <td>1</td>\n",
       "      <td>GABRIEL GONZALEZ BELTRAN</td>\n",
       "      <td>1102719336</td>\n",
       "      <td>INSTALACIONES ALTO VALOR</td>\n",
       "      <td>22869.0</td>\n",
       "      <td>MOTO DOBLE</td>\n",
       "      <td>HFC</td>\n",
       "      <td>GIOVANNI V</td>\n",
       "    </tr>\n",
       "  </tbody>\n",
       "</table>\n",
       "<p>105388 rows × 14 columns</p>\n",
       "</div>"
      ],
      "text/plain": [
       "       regional         ciudad codtrabajo       fecha    cuenta      orden  \\\n",
       "0        CENTRO         BOGOTA     VENTEC  01/07/2023  15589183  380534979   \n",
       "1        CENTRO         BOGOTA    NROUTER  01/07/2023  15434166  380582904   \n",
       "2        CENTRO         BOGOTA    NROUTER  01/07/2023  15581974  380597816   \n",
       "3        CENTRO         BOGOTA    NROUTER  01/07/2023  15634211  380592700   \n",
       "4        CENTRO         BOGOTA    NROUTER  01/07/2023  15589183  380534979   \n",
       "...         ...            ...        ...         ...       ...        ...   \n",
       "105383  ORIENTE  VILLAVICENCIO    ARTOC96  31/07/2023  24820037    8798206   \n",
       "105384   CENTRO         BOGOTA     NDESCO  31/07/2023  16170421  381960297   \n",
       "105385   CENTRO         BOGOTA   NFTICTNC  31/07/2023  19680087  382136645   \n",
       "105386   CENTRO         BOGOTA     NITVCA  31/07/2023  25973369  382203547   \n",
       "105387   CENTRO         BOGOTA     NTODAT  31/07/2023  19372271  381959575   \n",
       "\n",
       "        cantidad                    nombre_tecnico      cedula  \\\n",
       "0              2         JEISON ADAN MOSQUERA RUIZ  1087782391   \n",
       "1              2  ALEJANDRO MARIO HERNANDEZ PERTUZ  1143432760   \n",
       "2              2         JORGE ENRIQUE RENZA ALVIZ  1130588089   \n",
       "3              2      EYSON FERNANDO IJAJI SAMBONI  1107077888   \n",
       "4              2         JEISON ADAN MOSQUERA RUIZ  1087782391   \n",
       "...          ...                               ...         ...   \n",
       "105383         1       CURREA HERRERA HUGO ALFONSO  1121871475   \n",
       "105384         1           CAMILLO SPECIA CARVAJAL  1126625677   \n",
       "105385         1     DEIMER ALONSO ARTUZ JARAMILLO  1073990828   \n",
       "105386         1    CARLOS EDUARDO DAJOME VALENCIA  1023952580   \n",
       "105387         1          GABRIEL GONZALEZ BELTRAN  1102719336   \n",
       "\n",
       "                    tipo_trabajo  precio_trabajo      tipo_movil  \\\n",
       "0                 VENTAS TECNICO         20028.0      MOTO DOBLE   \n",
       "1                 VENTAS TECNICO         33090.0      MOTO DOBLE   \n",
       "2                 VENTAS TECNICO         33090.0      MOTO DOBLE   \n",
       "3                 VENTAS TECNICO         33090.0      MOTO DOBLE   \n",
       "4                 VENTAS TECNICO         33090.0      MOTO DOBLE   \n",
       "...                          ...             ...             ...   \n",
       "105383            MANTENIMIENTOS         39176.0  MOVIL ARREGLOS   \n",
       "105384             DESCONEXIONES          8746.0   MOTO SENCILLA   \n",
       "105385        INSTALACIONES FTTH        178192.0      MOTO DOBLE   \n",
       "105386  INSTALACIONES ALTO VALOR         74622.0      MOTO DOBLE   \n",
       "105387  INSTALACIONES ALTO VALOR         22869.0      MOTO DOBLE   \n",
       "\n",
       "       esquema_trabajo coordinador  \n",
       "0                  HFC  GIOVANNI V  \n",
       "1                  HFC  GIOVANNI V  \n",
       "2                  HFC  GIOVANNI V  \n",
       "3                  HFC  GIOVANNI V  \n",
       "4                  HFC  GIOVANNI V  \n",
       "...                ...         ...  \n",
       "105383            FTTH    ANDRES G  \n",
       "105384             HFC  GIOVANNI V  \n",
       "105385            FTTH      JHON T  \n",
       "105386             HFC  GIOVANNI V  \n",
       "105387             HFC  GIOVANNI V  \n",
       "\n",
       "[105388 rows x 14 columns]"
      ]
     },
     "execution_count": 21,
     "metadata": {},
     "output_type": "execute_result"
    }
   ],
   "source": [
    "datos"
   ]
  },
  {
   "cell_type": "code",
   "execution_count": 23,
   "id": "560fb8f4-158c-4723-a24c-314387180048",
   "metadata": {},
   "outputs": [],
   "source": [
    "#  excel final\n",
    "\n",
    "datos.to_csv('datos.csv', index=False)"
   ]
  },
  {
   "cell_type": "code",
   "execution_count": null,
   "id": "95ff985d-3cd8-48e6-b487-daaf9cf3beaf",
   "metadata": {},
   "outputs": [],
   "source": []
  }
 ],
 "metadata": {
  "kernelspec": {
   "display_name": "Python 3 (ipykernel)",
   "language": "python",
   "name": "python3"
  },
  "language_info": {
   "codemirror_mode": {
    "name": "ipython",
    "version": 3
   },
   "file_extension": ".py",
   "mimetype": "text/x-python",
   "name": "python",
   "nbconvert_exporter": "python",
   "pygments_lexer": "ipython3",
   "version": "3.12.7"
  }
 },
 "nbformat": 4,
 "nbformat_minor": 5
}
