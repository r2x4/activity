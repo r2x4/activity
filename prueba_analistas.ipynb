{
 "cells": [
  {
   "cell_type": "markdown",
   "id": "e1aa7c5b-31c3-4db1-b3bf-8011e3b29cea",
   "metadata": {},
   "source": [
    "# **Prueba Analistas**"
   ]
  },
  {
   "cell_type": "code",
   "execution_count": 1,
   "id": "825a93dc-e186-4e73-a044-1071e53f2c9a",
   "metadata": {},
   "outputs": [
    {
     "name": "stdout",
     "output_type": "stream",
     "text": [
      "(105388, 14)\n",
      "  regional  ciudad codtrabajo       fecha    cuenta      orden  cantidad  \\\n",
      "0   CENTRO  BOGOTA     VENTEC  01/07/2023  15589183  380534979         2   \n",
      "1   CENTRO  BOGOTA    NROUTER  01/07/2023  15434166  380582904         2   \n",
      "2   CENTRO  BOGOTA    NROUTER  01/07/2023  15581974  380597816         2   \n",
      "3   CENTRO  BOGOTA    NROUTER  01/07/2023  15634211  380592700         2   \n",
      "4   CENTRO  BOGOTA    NROUTER  01/07/2023  15589183  380534979         2   \n",
      "\n",
      "                     nombre_tecnico      cedula    tipo_trabajo  \\\n",
      "0         JEISON ADAN MOSQUERA RUIZ  1087782391  VENTAS TECNICO   \n",
      "1  ALEJANDRO MARIO HERNANDEZ PERTUZ  1143432760  VENTAS TECNICO   \n",
      "2         JORGE ENRIQUE RENZA ALVIZ  1130588089  VENTAS TECNICO   \n",
      "3      EYSON FERNANDO IJAJI SAMBONI  1107077888  VENTAS TECNICO   \n",
      "4         JEISON ADAN MOSQUERA RUIZ  1087782391  VENTAS TECNICO   \n",
      "\n",
      "   precio_trabajo  tipo_movil esquema_trabajo  coordinador  \n",
      "0         20028.0  MOTO DOBLE             HFC          NaN  \n",
      "1         33090.0  MOTO DOBLE             HFC          NaN  \n",
      "2         33090.0  MOTO DOBLE             HFC          NaN  \n",
      "3         33090.0  MOTO DOBLE             HFC          NaN  \n",
      "4         33090.0  MOTO DOBLE             HFC          NaN  \n"
     ]
    }
   ],
   "source": [
    "# importar los datos\n",
    "\n",
    "import pandas as pd\n",
    "import numpy as np\n",
    "\n",
    "\n",
    "datos = pd.read_csv('analista_de_operaciones.csv', encoding='latin1', header=0)\n",
    "\n",
    "print(datos.shape)\n",
    "print(datos.head())\n"
   ]
  },
  {
   "cell_type": "code",
   "execution_count": 2,
   "id": "6cf679c6-cab0-445c-b16a-c00b9ffb3fb4",
   "metadata": {},
   "outputs": [
    {
     "data": {
      "text/plain": [
       "pandas.core.frame.DataFrame"
      ]
     },
     "execution_count": 2,
     "metadata": {},
     "output_type": "execute_result"
    }
   ],
   "source": [
    "# tipo de datos\n",
    "\n",
    "type(datos)"
   ]
  },
  {
   "cell_type": "code",
   "execution_count": 3,
   "id": "89b7c7fe-5170-4a32-901f-aac60b86d6a9",
   "metadata": {},
   "outputs": [
    {
     "data": {
      "text/plain": [
       "(105388, 14)"
      ]
     },
     "execution_count": 3,
     "metadata": {},
     "output_type": "execute_result"
    }
   ],
   "source": [
    "# cantidad de datos \n",
    "\n",
    "datos.shape"
   ]
  },
  {
   "cell_type": "code",
   "execution_count": 4,
   "id": "e3ec7e15-93fb-4cae-9479-026116497fb9",
   "metadata": {},
   "outputs": [
    {
     "data": {
      "text/plain": [
       "Index(['regional', 'ciudad', 'codtrabajo', 'fecha', 'cuenta', 'orden',\n",
       "       'cantidad', 'nombre_tecnico', 'cedula', 'tipo_trabajo',\n",
       "       'precio_trabajo', 'tipo_movil', 'esquema_trabajo', 'coordinador'],\n",
       "      dtype='object')"
      ]
     },
     "execution_count": 4,
     "metadata": {},
     "output_type": "execute_result"
    }
   ],
   "source": [
    "# las columnas\n",
    "\n",
    "datos.columns"
   ]
  },
  {
   "cell_type": "code",
   "execution_count": 5,
   "id": "6ed4fdd5-14f1-483a-a15c-bc846adaeee8",
   "metadata": {},
   "outputs": [
    {
     "name": "stdout",
     "output_type": "stream",
     "text": [
      "Index(['regional', 'ciudad', 'codtrabajo', 'fecha', 'cuenta', 'orden',\n",
      "       'cantidad', 'nombre_tecnico', 'cedula', 'tipo_trabajo',\n",
      "       'precio_trabajo', 'tipo_movil', 'esquema_trabajo', 'coordinador'],\n",
      "      dtype='object')\n"
     ]
    }
   ],
   "source": [
    "# Limpiar los nombres de las columnas de posibles espacios en blanco\n",
    "datos.columns = datos.columns.str.strip()\n",
    "\n",
    "# Imprimir los nombres de las columnas nuevamente para verificar\n",
    "print(datos.columns)\n"
   ]
  },
  {
   "cell_type": "markdown",
   "id": "0c73a1d8-5db7-4f4e-8c81-bc28d8ac27f3",
   "metadata": {},
   "source": [
    "## **Promedio Servicio**"
   ]
  },
  {
   "cell_type": "code",
   "execution_count": 6,
   "id": "bd9a15b6-b108-43e3-aecb-82e08a9d475c",
   "metadata": {},
   "outputs": [
    {
     "name": "stdout",
     "output_type": "stream",
     "text": [
      "52897.61\n"
     ]
    }
   ],
   "source": [
    "# promedio de trabajo\n",
    "\n",
    "promedio_precio = round(datos['precio_trabajo'].mean(), 2)\n",
    "print(promedio_precio)\n"
   ]
  },
  {
   "cell_type": "markdown",
   "id": "724a5fe3-1058-4d53-8c61-d205b3e8a820",
   "metadata": {},
   "source": [
    "# **Dataframe Tecnico**"
   ]
  },
  {
   "cell_type": "code",
   "execution_count": 7,
   "id": "e3794f15-d945-44e0-90a1-69e4781d5ec4",
   "metadata": {},
   "outputs": [
    {
     "name": "stdout",
     "output_type": "stream",
     "text": [
      "                        nombre_tecnico  Numero_Servicios  Valor_Total  \\\n",
      "0                     ABISAI GIL GOMEZ               161    8179974.0   \n",
      "1          ACERO LEON EDUARD ALEXANDER               116    4196428.0   \n",
      "2           ACOSTA BOSSA JORGE ELIECER               143    6857306.0   \n",
      "3      ADRIAN ALONSO RINCON AVELLANEDA               191   11548276.0   \n",
      "4    AGUDELO RODRIGUEZ FABIAN ESNEIDER                16     667627.0   \n",
      "..                                 ...               ...          ...   \n",
      "698  YILBER NICOLAS BUITRAGO HERNANDEZ                61    2831577.0   \n",
      "699        YONATHA STID MOGOLLON ANAYA                13     445286.0   \n",
      "700  YONATHAN ARLEY CASTILLO GUTIERREZ                92    9167403.0   \n",
      "701         YORFAN SMITH GUIZA VELASCO               116    8527798.0   \n",
      "702      YORMAN ENRIQUE GONZALEZ PABON               170    6093439.0   \n",
      "\n",
      "    Clasificación  \n",
      "0            MALO  \n",
      "1        MUY MALO  \n",
      "2            MALO  \n",
      "3         REGULAR  \n",
      "4        MUY MALO  \n",
      "..            ...  \n",
      "698      MUY MALO  \n",
      "699      MUY MALO  \n",
      "700          MALO  \n",
      "701          MALO  \n",
      "702          MALO  \n",
      "\n",
      "[703 rows x 4 columns]\n"
     ]
    }
   ],
   "source": [
    "# Agrupar por el nombre del técnico\n",
    "df_tecnico = datos.groupby('nombre_tecnico').agg(\n",
    "    Numero_Servicios=('precio_trabajo', 'count'),\n",
    "    Valor_Total=('precio_trabajo', 'sum')\n",
    ").reset_index()\n",
    "\n",
    "# Agregar la columna de clasificación según el Valor Total\n",
    "def clasificar(valor_total):\n",
    "    if valor_total <= 5000000:\n",
    "        return \"MUY MALO\"\n",
    "    elif valor_total <= 10000000:\n",
    "        return \"MALO\"\n",
    "    elif valor_total <= 15000000:\n",
    "        return \"REGULAR\"\n",
    "    elif valor_total <= 20000000:\n",
    "        return \"BUENO\"\n",
    "    else:\n",
    "        return \"EXCELENTE\"\n",
    "\n",
    "df_tecnico['Clasificación'] = df_tecnico['Valor_Total'].apply(clasificar)\n",
    "\n",
    "# Ver el resultado\n",
    "print(df_tecnico)"
   ]
  },
  {
   "cell_type": "code",
   "execution_count": 8,
   "id": "977e3310-ee51-4c10-af61-b2535a51a5e3",
   "metadata": {},
   "outputs": [
    {
     "name": "stdout",
     "output_type": "stream",
     "text": [
      "Index(['nombre_tecnico', 'Numero_Servicios', 'Valor_Total', 'Clasificación'], dtype='object')\n"
     ]
    }
   ],
   "source": [
    "print(df_tecnico.columns)\n"
   ]
  },
  {
   "cell_type": "markdown",
   "id": "ef0752ae-5404-4ca2-991f-225acf410e86",
   "metadata": {},
   "source": [
    "## **Exportar la tabla**"
   ]
  },
  {
   "cell_type": "code",
   "execution_count": 9,
   "id": "911f1872-908c-4a41-a527-ccaff92843ee",
   "metadata": {},
   "outputs": [],
   "source": [
    "# Exportar la tabla\n",
    "\n",
    "df_tecnico.to_csv('df_tecnico.csv', index=False)"
   ]
  },
  {
   "cell_type": "markdown",
   "id": "a10aca2a-6cd2-4c66-a003-0f63d3b7e7cb",
   "metadata": {},
   "source": [
    "# **Porcentajes y Servicios**"
   ]
  },
  {
   "cell_type": "code",
   "execution_count": 11,
   "id": "d910c9b9-0d6f-4b97-a2dd-9fe4e45029c3",
   "metadata": {},
   "outputs": [
    {
     "name": "stdout",
     "output_type": "stream",
     "text": [
      "esquema_trabajo            FTTH               HFC    FTTH     HFC\n",
      "tipo_movil                                                       \n",
      "CAMIONETA        235,443,776.00     70,477,795.00   4.22%   1.26%\n",
      "MOTO DOBLE       955,828,294.00  2,354,511,815.00  17.15%  42.24%\n",
      "MOTO SENCILLA    111,927,593.00    779,504,820.00   2.01%  13.98%\n",
      "MOTO SENCILLA        118,406.00         77,363.00   0.00%   0.00%\n",
      "MOVIL ARREGLOS   270,721,047.00    780,957,647.00   4.86%  14.01%\n",
      "MOVIL PYMES                0.00     15,205,180.00   0.00%   0.27%\n"
     ]
    }
   ],
   "source": [
    "# Agrupar y calcular totales\n",
    "df_agrupado = datos.groupby(['tipo_movil', 'esquema_trabajo']).agg(\n",
    "    Valor_Total=('precio_trabajo', 'sum')\n",
    ").reset_index()\n",
    "\n",
    "# Calcular el total global para porcentaje\n",
    "total_global = datos['precio_trabajo'].sum()\n",
    "\n",
    "# Calcular porcentaje\n",
    "df_agrupado['Porcentaje'] = (df_agrupado['Valor_Total'] / total_global) * 100\n",
    "\n",
    "# Redondear\n",
    "df_agrupado['Valor_Total'] = df_agrupado['Valor_Total'].round(2)\n",
    "df_agrupado['Porcentaje'] = df_agrupado['Porcentaje'].round(2)\n",
    "\n",
    "# Pivotear\n",
    "tabla_pivot = df_agrupado.pivot(index='tipo_movil', columns='esquema_trabajo', values=['Valor_Total', 'Porcentaje'])\n",
    "\n",
    "# Rellenar NaN con 0\n",
    "tabla_pivot = tabla_pivot.fillna(0)\n",
    "\n",
    "# Formatear los valores\n",
    "tabla_pivot_formateada = tabla_pivot.copy()\n",
    "tabla_pivot_formateada['Valor_Total'] = tabla_pivot['Valor_Total'].map(lambda x: f\"{x:,.2f}\")\n",
    "tabla_pivot_formateada['Porcentaje'] = tabla_pivot['Porcentaje'].map(lambda x: f\"{x:.2f}%\")\n",
    "\n",
    "# Unir los valores formateados\n",
    "tabla_final = pd.concat([tabla_pivot_formateada['Valor_Total'], tabla_pivot_formateada['Porcentaje']], axis=1)\n",
    "\n",
    "# Mostrar tabla final\n",
    "print(tabla_final)"
   ]
  },
  {
   "cell_type": "code",
   "execution_count": 13,
   "id": "43a66ece-afe4-4fef-88f0-f95e76c1f6b5",
   "metadata": {},
   "outputs": [],
   "source": [
    "# segundo excel\n",
    "\n",
    "tabla_final.to_excel('tabla_final.xlsx', index=True)"
   ]
  },
  {
   "cell_type": "code",
   "execution_count": 14,
   "id": "0e24ee24-ee99-4932-9d13-5630020f4730",
   "metadata": {},
   "outputs": [
    {
     "ename": "ValueError",
     "evalue": "No engine for filetype: 'csv'",
     "output_type": "error",
     "traceback": [
      "\u001b[1;31m---------------------------------------------------------------------------\u001b[0m",
      "\u001b[1;31mOptionError\u001b[0m                               Traceback (most recent call last)",
      "File \u001b[1;32m~\\anaconda3\\Lib\\site-packages\\pandas\\io\\excel\\_base.py:1136\u001b[0m, in \u001b[0;36mExcelWriter.__new__\u001b[1;34m(cls, path, engine, date_format, datetime_format, mode, storage_options, if_sheet_exists, engine_kwargs)\u001b[0m\n\u001b[0;32m   1135\u001b[0m \u001b[38;5;28;01mtry\u001b[39;00m:\n\u001b[1;32m-> 1136\u001b[0m     engine \u001b[38;5;241m=\u001b[39m config\u001b[38;5;241m.\u001b[39mget_option(\u001b[38;5;124mf\u001b[39m\u001b[38;5;124m\"\u001b[39m\u001b[38;5;124mio.excel.\u001b[39m\u001b[38;5;132;01m{\u001b[39;00mext\u001b[38;5;132;01m}\u001b[39;00m\u001b[38;5;124m.writer\u001b[39m\u001b[38;5;124m\"\u001b[39m, silent\u001b[38;5;241m=\u001b[39m\u001b[38;5;28;01mTrue\u001b[39;00m)\n\u001b[0;32m   1137\u001b[0m     \u001b[38;5;28;01mif\u001b[39;00m engine \u001b[38;5;241m==\u001b[39m \u001b[38;5;124m\"\u001b[39m\u001b[38;5;124mauto\u001b[39m\u001b[38;5;124m\"\u001b[39m:\n",
      "File \u001b[1;32m~\\anaconda3\\Lib\\site-packages\\pandas\\_config\\config.py:274\u001b[0m, in \u001b[0;36mCallableDynamicDoc.__call__\u001b[1;34m(self, *args, **kwds)\u001b[0m\n\u001b[0;32m    273\u001b[0m \u001b[38;5;28;01mdef\u001b[39;00m \u001b[38;5;21m__call__\u001b[39m(\u001b[38;5;28mself\u001b[39m, \u001b[38;5;241m*\u001b[39margs, \u001b[38;5;241m*\u001b[39m\u001b[38;5;241m*\u001b[39mkwds) \u001b[38;5;241m-\u001b[39m\u001b[38;5;241m>\u001b[39m T:\n\u001b[1;32m--> 274\u001b[0m     \u001b[38;5;28;01mreturn\u001b[39;00m \u001b[38;5;28mself\u001b[39m\u001b[38;5;241m.\u001b[39m\u001b[38;5;18m__func__\u001b[39m(\u001b[38;5;241m*\u001b[39margs, \u001b[38;5;241m*\u001b[39m\u001b[38;5;241m*\u001b[39mkwds)\n",
      "File \u001b[1;32m~\\anaconda3\\Lib\\site-packages\\pandas\\_config\\config.py:146\u001b[0m, in \u001b[0;36m_get_option\u001b[1;34m(pat, silent)\u001b[0m\n\u001b[0;32m    145\u001b[0m \u001b[38;5;28;01mdef\u001b[39;00m \u001b[38;5;21m_get_option\u001b[39m(pat: \u001b[38;5;28mstr\u001b[39m, silent: \u001b[38;5;28mbool\u001b[39m \u001b[38;5;241m=\u001b[39m \u001b[38;5;28;01mFalse\u001b[39;00m) \u001b[38;5;241m-\u001b[39m\u001b[38;5;241m>\u001b[39m Any:\n\u001b[1;32m--> 146\u001b[0m     key \u001b[38;5;241m=\u001b[39m _get_single_key(pat, silent)\n\u001b[0;32m    148\u001b[0m     \u001b[38;5;66;03m# walk the nested dict\u001b[39;00m\n",
      "File \u001b[1;32m~\\anaconda3\\Lib\\site-packages\\pandas\\_config\\config.py:132\u001b[0m, in \u001b[0;36m_get_single_key\u001b[1;34m(pat, silent)\u001b[0m\n\u001b[0;32m    131\u001b[0m         _warn_if_deprecated(pat)\n\u001b[1;32m--> 132\u001b[0m     \u001b[38;5;28;01mraise\u001b[39;00m OptionError(\u001b[38;5;124mf\u001b[39m\u001b[38;5;124m\"\u001b[39m\u001b[38;5;124mNo such keys(s): \u001b[39m\u001b[38;5;132;01m{\u001b[39;00m\u001b[38;5;28mrepr\u001b[39m(pat)\u001b[38;5;132;01m}\u001b[39;00m\u001b[38;5;124m\"\u001b[39m)\n\u001b[0;32m    133\u001b[0m \u001b[38;5;28;01mif\u001b[39;00m \u001b[38;5;28mlen\u001b[39m(keys) \u001b[38;5;241m>\u001b[39m \u001b[38;5;241m1\u001b[39m:\n",
      "\u001b[1;31mOptionError\u001b[0m: No such keys(s): 'io.excel.csv.writer'",
      "\nThe above exception was the direct cause of the following exception:\n",
      "\u001b[1;31mValueError\u001b[0m                                Traceback (most recent call last)",
      "Cell \u001b[1;32mIn[14], line 3\u001b[0m\n\u001b[0;32m      1\u001b[0m \u001b[38;5;66;03m# segundo excel\u001b[39;00m\n\u001b[1;32m----> 3\u001b[0m tabla_final\u001b[38;5;241m.\u001b[39mto_excel(\u001b[38;5;124m'\u001b[39m\u001b[38;5;124mtabla_final.csv\u001b[39m\u001b[38;5;124m'\u001b[39m, index\u001b[38;5;241m=\u001b[39m\u001b[38;5;28;01mTrue\u001b[39;00m)\n",
      "File \u001b[1;32m~\\anaconda3\\Lib\\site-packages\\pandas\\util\\_decorators.py:333\u001b[0m, in \u001b[0;36mdeprecate_nonkeyword_arguments.<locals>.decorate.<locals>.wrapper\u001b[1;34m(*args, **kwargs)\u001b[0m\n\u001b[0;32m    327\u001b[0m \u001b[38;5;28;01mif\u001b[39;00m \u001b[38;5;28mlen\u001b[39m(args) \u001b[38;5;241m>\u001b[39m num_allow_args:\n\u001b[0;32m    328\u001b[0m     warnings\u001b[38;5;241m.\u001b[39mwarn(\n\u001b[0;32m    329\u001b[0m         msg\u001b[38;5;241m.\u001b[39mformat(arguments\u001b[38;5;241m=\u001b[39m_format_argument_list(allow_args)),\n\u001b[0;32m    330\u001b[0m         \u001b[38;5;167;01mFutureWarning\u001b[39;00m,\n\u001b[0;32m    331\u001b[0m         stacklevel\u001b[38;5;241m=\u001b[39mfind_stack_level(),\n\u001b[0;32m    332\u001b[0m     )\n\u001b[1;32m--> 333\u001b[0m \u001b[38;5;28;01mreturn\u001b[39;00m func(\u001b[38;5;241m*\u001b[39margs, \u001b[38;5;241m*\u001b[39m\u001b[38;5;241m*\u001b[39mkwargs)\n",
      "File \u001b[1;32m~\\anaconda3\\Lib\\site-packages\\pandas\\core\\generic.py:2417\u001b[0m, in \u001b[0;36mNDFrame.to_excel\u001b[1;34m(self, excel_writer, sheet_name, na_rep, float_format, columns, header, index, index_label, startrow, startcol, engine, merge_cells, inf_rep, freeze_panes, storage_options, engine_kwargs)\u001b[0m\n\u001b[0;32m   2404\u001b[0m \u001b[38;5;28;01mfrom\u001b[39;00m \u001b[38;5;21;01mpandas\u001b[39;00m\u001b[38;5;21;01m.\u001b[39;00m\u001b[38;5;21;01mio\u001b[39;00m\u001b[38;5;21;01m.\u001b[39;00m\u001b[38;5;21;01mformats\u001b[39;00m\u001b[38;5;21;01m.\u001b[39;00m\u001b[38;5;21;01mexcel\u001b[39;00m \u001b[38;5;28;01mimport\u001b[39;00m ExcelFormatter\n\u001b[0;32m   2406\u001b[0m formatter \u001b[38;5;241m=\u001b[39m ExcelFormatter(\n\u001b[0;32m   2407\u001b[0m     df,\n\u001b[0;32m   2408\u001b[0m     na_rep\u001b[38;5;241m=\u001b[39mna_rep,\n\u001b[1;32m   (...)\u001b[0m\n\u001b[0;32m   2415\u001b[0m     inf_rep\u001b[38;5;241m=\u001b[39minf_rep,\n\u001b[0;32m   2416\u001b[0m )\n\u001b[1;32m-> 2417\u001b[0m formatter\u001b[38;5;241m.\u001b[39mwrite(\n\u001b[0;32m   2418\u001b[0m     excel_writer,\n\u001b[0;32m   2419\u001b[0m     sheet_name\u001b[38;5;241m=\u001b[39msheet_name,\n\u001b[0;32m   2420\u001b[0m     startrow\u001b[38;5;241m=\u001b[39mstartrow,\n\u001b[0;32m   2421\u001b[0m     startcol\u001b[38;5;241m=\u001b[39mstartcol,\n\u001b[0;32m   2422\u001b[0m     freeze_panes\u001b[38;5;241m=\u001b[39mfreeze_panes,\n\u001b[0;32m   2423\u001b[0m     engine\u001b[38;5;241m=\u001b[39mengine,\n\u001b[0;32m   2424\u001b[0m     storage_options\u001b[38;5;241m=\u001b[39mstorage_options,\n\u001b[0;32m   2425\u001b[0m     engine_kwargs\u001b[38;5;241m=\u001b[39mengine_kwargs,\n\u001b[0;32m   2426\u001b[0m )\n",
      "File \u001b[1;32m~\\anaconda3\\Lib\\site-packages\\pandas\\io\\formats\\excel.py:943\u001b[0m, in \u001b[0;36mExcelFormatter.write\u001b[1;34m(self, writer, sheet_name, startrow, startcol, freeze_panes, engine, storage_options, engine_kwargs)\u001b[0m\n\u001b[0;32m    941\u001b[0m     need_save \u001b[38;5;241m=\u001b[39m \u001b[38;5;28;01mFalse\u001b[39;00m\n\u001b[0;32m    942\u001b[0m \u001b[38;5;28;01melse\u001b[39;00m:\n\u001b[1;32m--> 943\u001b[0m     writer \u001b[38;5;241m=\u001b[39m ExcelWriter(\n\u001b[0;32m    944\u001b[0m         writer,\n\u001b[0;32m    945\u001b[0m         engine\u001b[38;5;241m=\u001b[39mengine,\n\u001b[0;32m    946\u001b[0m         storage_options\u001b[38;5;241m=\u001b[39mstorage_options,\n\u001b[0;32m    947\u001b[0m         engine_kwargs\u001b[38;5;241m=\u001b[39mengine_kwargs,\n\u001b[0;32m    948\u001b[0m     )\n\u001b[0;32m    949\u001b[0m     need_save \u001b[38;5;241m=\u001b[39m \u001b[38;5;28;01mTrue\u001b[39;00m\n\u001b[0;32m    951\u001b[0m \u001b[38;5;28;01mtry\u001b[39;00m:\n",
      "File \u001b[1;32m~\\anaconda3\\Lib\\site-packages\\pandas\\io\\excel\\_base.py:1140\u001b[0m, in \u001b[0;36mExcelWriter.__new__\u001b[1;34m(cls, path, engine, date_format, datetime_format, mode, storage_options, if_sheet_exists, engine_kwargs)\u001b[0m\n\u001b[0;32m   1138\u001b[0m             engine \u001b[38;5;241m=\u001b[39m get_default_engine(ext, mode\u001b[38;5;241m=\u001b[39m\u001b[38;5;124m\"\u001b[39m\u001b[38;5;124mwriter\u001b[39m\u001b[38;5;124m\"\u001b[39m)\n\u001b[0;32m   1139\u001b[0m     \u001b[38;5;28;01mexcept\u001b[39;00m \u001b[38;5;167;01mKeyError\u001b[39;00m \u001b[38;5;28;01mas\u001b[39;00m err:\n\u001b[1;32m-> 1140\u001b[0m         \u001b[38;5;28;01mraise\u001b[39;00m \u001b[38;5;167;01mValueError\u001b[39;00m(\u001b[38;5;124mf\u001b[39m\u001b[38;5;124m\"\u001b[39m\u001b[38;5;124mNo engine for filetype: \u001b[39m\u001b[38;5;124m'\u001b[39m\u001b[38;5;132;01m{\u001b[39;00mext\u001b[38;5;132;01m}\u001b[39;00m\u001b[38;5;124m'\u001b[39m\u001b[38;5;124m\"\u001b[39m) \u001b[38;5;28;01mfrom\u001b[39;00m \u001b[38;5;21;01merr\u001b[39;00m\n\u001b[0;32m   1142\u001b[0m \u001b[38;5;66;03m# for mypy\u001b[39;00m\n\u001b[0;32m   1143\u001b[0m \u001b[38;5;28;01massert\u001b[39;00m engine \u001b[38;5;129;01mis\u001b[39;00m \u001b[38;5;129;01mnot\u001b[39;00m \u001b[38;5;28;01mNone\u001b[39;00m\n",
      "\u001b[1;31mValueError\u001b[0m: No engine for filetype: 'csv'"
     ]
    }
   ],
   "source": [
    "# segundo excel\n",
    "\n",
    "tabla_final.to_excel('tabla_final.csv', index=True)"
   ]
  },
  {
   "cell_type": "code",
   "execution_count": null,
   "id": "6c675ad3-a81d-4784-a0cf-c25c2a465b39",
   "metadata": {},
   "outputs": [],
   "source": []
  }
 ],
 "metadata": {
  "kernelspec": {
   "display_name": "Python 3 (ipykernel)",
   "language": "python",
   "name": "python3"
  },
  "language_info": {
   "codemirror_mode": {
    "name": "ipython",
    "version": 3
   },
   "file_extension": ".py",
   "mimetype": "text/x-python",
   "name": "python",
   "nbconvert_exporter": "python",
   "pygments_lexer": "ipython3",
   "version": "3.12.7"
  }
 },
 "nbformat": 4,
 "nbformat_minor": 5
}
