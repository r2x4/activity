{
 "cells": [
  {
   "cell_type": "markdown",
   "id": "e1aa7c5b-31c3-4db1-b3bf-8011e3b29cea",
   "metadata": {},
   "source": [
    "# **Prueba Analistas**"
   ]
  },
  {
   "cell_type": "code",
   "execution_count": 12,
   "id": "825a93dc-e186-4e73-a044-1071e53f2c9a",
   "metadata": {},
   "outputs": [
    {
     "name": "stdout",
     "output_type": "stream",
     "text": [
      "(105388, 1)\n",
      "  REGIONAL,CIUDAD,CODTRABAJO,FECHA,CUENTA,ORDEN,CANTIDAD,NOMBRE TECNICO REAL,CEDULA TECNICO REAL,TIPO_TRABAJO,PRECIO DE TRABAJO,TIPO DE MOVIL,ESQUEMA DE TRABAJO,COORDINADOR\n",
      "0  CENTRO,BOGOTA,VENTEC,01/07/2023,15589183,38053...                                                                                                                        \n",
      "1  CENTRO,BOGOTA,NROUTER,01/07/2023,15434166,3805...                                                                                                                        \n",
      "2  CENTRO,BOGOTA,NROUTER,01/07/2023,15581974,3805...                                                                                                                        \n",
      "3  CENTRO,BOGOTA,NROUTER,01/07/2023,15634211,3805...                                                                                                                        \n",
      "4  CENTRO,BOGOTA,NROUTER,01/07/2023,15589183,3805...                                                                                                                        \n"
     ]
    }
   ],
   "source": [
    "# importar los datos\n",
    "\n",
    "import pandas as pd\n",
    "import numpy as np\n",
    "\n",
    "# Probar con una codificación diferente\n",
    "datos = pd.read_csv('analista_de_operaciones.csv', delimiter=';', encoding='latin1')\n",
    "\n",
    "print(datos.shape)\n",
    "print(datos.head())\n"
   ]
  },
  {
   "cell_type": "code",
   "execution_count": 13,
   "id": "6cf679c6-cab0-445c-b16a-c00b9ffb3fb4",
   "metadata": {},
   "outputs": [
    {
     "data": {
      "text/plain": [
       "pandas.core.frame.DataFrame"
      ]
     },
     "execution_count": 13,
     "metadata": {},
     "output_type": "execute_result"
    }
   ],
   "source": [
    "# tipo de datos\n",
    "\n",
    "type(datos)"
   ]
  },
  {
   "cell_type": "code",
   "execution_count": 14,
   "id": "89b7c7fe-5170-4a32-901f-aac60b86d6a9",
   "metadata": {},
   "outputs": [
    {
     "data": {
      "text/plain": [
       "(105388, 1)"
      ]
     },
     "execution_count": 14,
     "metadata": {},
     "output_type": "execute_result"
    }
   ],
   "source": [
    "# cantidad de datos \n",
    "\n",
    "datos.shape"
   ]
  },
  {
   "cell_type": "code",
   "execution_count": null,
   "id": "e3ec7e15-93fb-4cae-9479-026116497fb9",
   "metadata": {},
   "outputs": [],
   "source": [
    "# las columnas\n",
    "\n",
    "datos.columns"
   ]
  }
 ],
 "metadata": {
  "kernelspec": {
   "display_name": "Python 3 (ipykernel)",
   "language": "python",
   "name": "python3"
  },
  "language_info": {
   "codemirror_mode": {
    "name": "ipython",
    "version": 3
   },
   "file_extension": ".py",
   "mimetype": "text/x-python",
   "name": "python",
   "nbconvert_exporter": "python",
   "pygments_lexer": "ipython3",
   "version": "3.12.7"
  }
 },
 "nbformat": 4,
 "nbformat_minor": 5
}
