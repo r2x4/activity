{
 "cells": [
  {
   "cell_type": "markdown",
   "id": "e1aa7c5b-31c3-4db1-b3bf-8011e3b29cea",
   "metadata": {},
   "source": [
    "# **Prueba Analistas**"
   ]
  },
  {
   "cell_type": "code",
   "execution_count": 14,
   "id": "825a93dc-e186-4e73-a044-1071e53f2c9a",
   "metadata": {},
   "outputs": [
    {
     "name": "stdout",
     "output_type": "stream",
     "text": [
      "(105388, 14)\n",
      "  regional  ciudad codtrabajo       fecha    cuenta      orden  cantidad  \\\n",
      "0   CENTRO  BOGOTA     VENTEC  01/07/2023  15589183  380534979         2   \n",
      "1   CENTRO  BOGOTA    NROUTER  01/07/2023  15434166  380582904         2   \n",
      "2   CENTRO  BOGOTA    NROUTER  01/07/2023  15581974  380597816         2   \n",
      "3   CENTRO  BOGOTA    NROUTER  01/07/2023  15634211  380592700         2   \n",
      "4   CENTRO  BOGOTA    NROUTER  01/07/2023  15589183  380534979         2   \n",
      "\n",
      "                     nombre_tecnico      cedula    tipo_trabajo  \\\n",
      "0         JEISON ADAN MOSQUERA RUIZ  1087782391  VENTAS TECNICO   \n",
      "1  ALEJANDRO MARIO HERNANDEZ PERTUZ  1143432760  VENTAS TECNICO   \n",
      "2         JORGE ENRIQUE RENZA ALVIZ  1130588089  VENTAS TECNICO   \n",
      "3      EYSON FERNANDO IJAJI SAMBONI  1107077888  VENTAS TECNICO   \n",
      "4         JEISON ADAN MOSQUERA RUIZ  1087782391  VENTAS TECNICO   \n",
      "\n",
      "  precio_trabajo  tipo_movil esquema_trabajo  coordinador  \n",
      "0     $20,028.00  MOTO DOBLE             HFC          NaN  \n",
      "1     $33,090.00  MOTO DOBLE             HFC          NaN  \n",
      "2     $33,090.00  MOTO DOBLE             HFC          NaN  \n",
      "3     $33,090.00  MOTO DOBLE             HFC          NaN  \n",
      "4     $33,090.00  MOTO DOBLE             HFC          NaN  \n"
     ]
    }
   ],
   "source": [
    "# importar los datos\n",
    "\n",
    "import pandas as pd\n",
    "import numpy as np\n",
    "\n",
    "\n",
    "datos = pd.read_csv('analista_de_operaciones.csv', encoding='latin1', header=0)\n",
    "\n",
    "print(datos.shape)\n",
    "print(datos.head())\n"
   ]
  },
  {
   "cell_type": "code",
   "execution_count": 15,
   "id": "6cf679c6-cab0-445c-b16a-c00b9ffb3fb4",
   "metadata": {},
   "outputs": [
    {
     "data": {
      "text/plain": [
       "pandas.core.frame.DataFrame"
      ]
     },
     "execution_count": 15,
     "metadata": {},
     "output_type": "execute_result"
    }
   ],
   "source": [
    "# tipo de datos\n",
    "\n",
    "type(datos)"
   ]
  },
  {
   "cell_type": "code",
   "execution_count": 16,
   "id": "89b7c7fe-5170-4a32-901f-aac60b86d6a9",
   "metadata": {},
   "outputs": [
    {
     "data": {
      "text/plain": [
       "(105388, 14)"
      ]
     },
     "execution_count": 16,
     "metadata": {},
     "output_type": "execute_result"
    }
   ],
   "source": [
    "# cantidad de datos \n",
    "\n",
    "datos.shape"
   ]
  },
  {
   "cell_type": "code",
   "execution_count": 17,
   "id": "e3ec7e15-93fb-4cae-9479-026116497fb9",
   "metadata": {},
   "outputs": [
    {
     "data": {
      "text/plain": [
       "Index(['regional', 'ciudad', 'codtrabajo', 'fecha', 'cuenta', 'orden',\n",
       "       'cantidad', 'nombre_tecnico', 'cedula', 'tipo_trabajo',\n",
       "       'precio_trabajo', 'tipo_movil', 'esquema_trabajo', 'coordinador'],\n",
       "      dtype='object')"
      ]
     },
     "execution_count": 17,
     "metadata": {},
     "output_type": "execute_result"
    }
   ],
   "source": [
    "# las columnas\n",
    "\n",
    "datos.columns"
   ]
  },
  {
   "cell_type": "code",
   "execution_count": 18,
   "id": "6ed4fdd5-14f1-483a-a15c-bc846adaeee8",
   "metadata": {},
   "outputs": [
    {
     "name": "stdout",
     "output_type": "stream",
     "text": [
      "Index(['regional', 'ciudad', 'codtrabajo', 'fecha', 'cuenta', 'orden',\n",
      "       'cantidad', 'nombre_tecnico', 'cedula', 'tipo_trabajo',\n",
      "       'precio_trabajo', 'tipo_movil', 'esquema_trabajo', 'coordinador'],\n",
      "      dtype='object')\n"
     ]
    }
   ],
   "source": [
    "# Limpiar los nombres de las columnas de posibles espacios en blanco\n",
    "datos.columns = datos.columns.str.strip()\n",
    "\n",
    "# Imprimir los nombres de las columnas nuevamente para verificar\n",
    "print(datos.columns)\n"
   ]
  },
  {
   "cell_type": "markdown",
   "id": "0c73a1d8-5db7-4f4e-8c81-bc28d8ac27f3",
   "metadata": {},
   "source": [
    "## **Promedio Servicio**"
   ]
  },
  {
   "cell_type": "code",
   "execution_count": 20,
   "id": "02b1db54-8e21-48a1-a68d-03293d6eb3bb",
   "metadata": {},
   "outputs": [
    {
     "name": "stdout",
     "output_type": "stream",
     "text": [
      "0   NaN\n",
      "1   NaN\n",
      "2   NaN\n",
      "3   NaN\n",
      "4   NaN\n",
      "Name: precio_trabajo, dtype: float64\n",
      "El promedio del precio de trabajo es: nan\n"
     ]
    }
   ],
   "source": [
    "# Convertir la columna 'precio_trabajo' a numérico, forzando los errores a NaN\n",
    "datos['precio_trabajo'] = pd.to_numeric(datos['precio_trabajo'], errors='coerce')\n",
    "\n",
    "# Verificar los primeros registros después de la conversión\n",
    "print(datos['precio_trabajo'].head())\n",
    "\n",
    "# Ahora calcular el promedio de la columna 'precio_trabajo'\n",
    "promedio_precio = datos['precio_trabajo'].mean()\n",
    "print(\"El promedio del precio de trabajo es:\", promedio_precio)\n"
   ]
  },
  {
   "cell_type": "code",
   "execution_count": null,
   "id": "bd9a15b6-b108-43e3-aecb-82e08a9d475c",
   "metadata": {},
   "outputs": [],
   "source": []
  },
  {
   "cell_type": "code",
   "execution_count": null,
   "id": "087baba8-24b0-4c74-8899-1d69559b4dc5",
   "metadata": {},
   "outputs": [],
   "source": []
  }
 ],
 "metadata": {
  "kernelspec": {
   "display_name": "Python 3",
   "language": "python",
   "name": "python3"
  },
  "language_info": {
   "codemirror_mode": {
    "name": "ipython",
    "version": 3
   },
   "file_extension": ".py",
   "mimetype": "text/x-python",
   "name": "python",
   "nbconvert_exporter": "python",
   "pygments_lexer": "ipython3",
   "version": "3.13.3"
  }
 },
 "nbformat": 4,
 "nbformat_minor": 5
}
