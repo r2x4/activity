{
 "cells": [
  {
   "cell_type": "markdown",
   "id": "5952e2e9-8821-4489-ba8e-2576059d9f72",
   "metadata": {},
   "source": [
    "# **Practica Base Quick**"
   ]
  },
  {
   "cell_type": "code",
   "execution_count": 1,
   "id": "baad3154-6130-4380-9d34-9226e05c3fdd",
   "metadata": {},
   "outputs": [
    {
     "name": "stdout",
     "output_type": "stream",
     "text": [
      "(15256, 73)\n",
      "        ruta numero_del_servicio      estado                   creado_por  \\\n",
      "0  109847253          SMI-152035  Finalizado  enterprise_v4_integrations_   \n",
      "1  110754835          SMI-158647  Finalizado        Eliana Rojas Carvajal   \n",
      "2  109480448          SMI-149059  Finalizado              CARLOS MARTINEZ   \n",
      "3  110930649          SMI-159343  Finalizado        Eliana Rojas Carvajal   \n",
      "4  109752348          SMI-150525  Finalizado  enterprise_v4_integrations_   \n",
      "\n",
      "  documento_cliente                      nombre_cliente  numero_telefono  \\\n",
      "0         CO-000024        FUNDACION SANTA FE DE BOGOTA     3.111111e+09   \n",
      "1         NF-000041     CLINICA SEBASTIAN DE BELALCAZAR     3.111111e+09   \n",
      "2         NF-000388      INSTITUTO COLOMBIANO DEL DOLOR     3.111111e+09   \n",
      "3         CO-000043                CLINICA IMBANACO SAS     3.111111e+09   \n",
      "4         CO-000020  HOSPITAL UNIVERSITARIO SAN IGNACIO     3.111111e+09   \n",
      "\n",
      "                  novedad descripcion_de_novedad    Ciudad  ...  \\\n",
      "0       RECOGIDA EFECTIVA                     sn    BOGOTA  ...   \n",
      "1  SALIDA COMPLETA BODEGA                    S/N      CALI  ...   \n",
      "2  SALIDA COMPLETA BODEGA                     Ok  MEDELLIN  ...   \n",
      "3       RECOGIDA EFECTIVA                     Sn      CALI  ...   \n",
      "4  SALIDA COMPLETA BODEGA   Se entrega material     BOGOTA  ...   \n",
      "\n",
      "  Valor del pedido Tipo de Cobro  recibido_picking          asignado  \\\n",
      "0                0           NaN               NaN  20/02/2025 09:08   \n",
      "1                0           NaN               NaN  08/03/2025 10:13   \n",
      "2                0           NaN               NaN  13/02/2025 07:27   \n",
      "3                0           NaN               NaN  12/03/2025 10:43   \n",
      "4                0           NaN  18/02/2025 12:06  18/02/2025 22:30   \n",
      "\n",
      "           aceptado           llegado reprogramar cancelado          atendido  \\\n",
      "0  20/02/2025 09:12  20/02/2025 09:12         NaN       NaN  20/02/2025 09:12   \n",
      "1  08/03/2025 10:26  08/03/2025 11:23         NaN       NaN  08/03/2025 11:23   \n",
      "2  13/02/2025 08:12  13/02/2025 08:19         NaN       NaN  13/02/2025 08:19   \n",
      "3  12/03/2025 10:53  12/03/2025 11:17         NaN       NaN  12/03/2025 14:44   \n",
      "4  18/02/2025 22:49  18/02/2025 23:53         NaN       NaN  18/02/2025 23:53   \n",
      "\n",
      "         finalizado  \n",
      "0  20/02/2025 09:13  \n",
      "1  08/03/2025 11:29  \n",
      "2  13/02/2025 08:23  \n",
      "3  12/03/2025 14:45  \n",
      "4  18/02/2025 23:55  \n",
      "\n",
      "[5 rows x 73 columns]\n"
     ]
    },
    {
     "name": "stderr",
     "output_type": "stream",
     "text": [
      "C:\\Users\\rrs23\\AppData\\Local\\Temp\\ipykernel_13388\\2713987298.py:7: DtypeWarning: Columns (22) have mixed types. Specify dtype option on import or set low_memory=False.\n",
      "  datos = pd.read_csv('BaseQ12.csv', encoding='latin1', header=0)\n"
     ]
    }
   ],
   "source": [
    "# importar los datos\n",
    "\n",
    "import pandas as pd\n",
    "import numpy as np\n",
    "\n",
    "\n",
    "datos = pd.read_csv('BaseQ12.csv', encoding='latin1', header=0)\n",
    "\n",
    "print(datos.shape)\n",
    "print(datos.head())"
   ]
  },
  {
   "cell_type": "code",
   "execution_count": 2,
   "id": "e602ba5c-2068-40c2-9452-0b8b92774a4a",
   "metadata": {},
   "outputs": [
    {
     "data": {
      "text/plain": [
       "pandas.core.frame.DataFrame"
      ]
     },
     "execution_count": 2,
     "metadata": {},
     "output_type": "execute_result"
    }
   ],
   "source": [
    "# tipo de datos\n",
    "\n",
    "type(datos)"
   ]
  },
  {
   "cell_type": "code",
   "execution_count": null,
   "id": "b687d179-e4f8-43c8-9434-8533e1a524d3",
   "metadata": {},
   "outputs": [],
   "source": []
  }
 ],
 "metadata": {
  "kernelspec": {
   "display_name": "Python 3 (ipykernel)",
   "language": "python",
   "name": "python3"
  },
  "language_info": {
   "codemirror_mode": {
    "name": "ipython",
    "version": 3
   },
   "file_extension": ".py",
   "mimetype": "text/x-python",
   "name": "python",
   "nbconvert_exporter": "python",
   "pygments_lexer": "ipython3",
   "version": "3.12.7"
  }
 },
 "nbformat": 4,
 "nbformat_minor": 5
}
