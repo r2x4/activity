{
  "nbformat": 4,
  "nbformat_minor": 0,
  "metadata": {
    "colab": {
      "provenance": [],
      "authorship_tag": "ABX9TyNoKJtvEq1NTUbZzqgAO1Dr",
      "include_colab_link": true
    },
    "kernelspec": {
      "name": "python3",
      "display_name": "Python 3"
    },
    "language_info": {
      "name": "python"
    }
  },
  "cells": [
    {
      "cell_type": "markdown",
      "metadata": {
        "id": "view-in-github",
        "colab_type": "text"
      },
      "source": [
        "<a href=\"https://colab.research.google.com/github/r2x4/activity/blob/main/pruebas_pruebas.ipynb\" target=\"_parent\"><img src=\"https://colab.research.google.com/assets/colab-badge.svg\" alt=\"Open In Colab\"/></a>"
      ]
    },
    {
      "cell_type": "markdown",
      "source": [
        "# **Prueba Analistas**\n"
      ],
      "metadata": {
        "id": "m7DbO3L_-Dq2"
      }
    },
    {
      "cell_type": "code",
      "execution_count": 3,
      "metadata": {
        "id": "Ag3sex-G8XMV",
        "colab": {
          "base_uri": "https://localhost:8080/",
          "height": 73
        },
        "outputId": "29b738e9-9c21-4594-c91e-e998f638fbd4"
      },
      "outputs": [
        {
          "output_type": "display_data",
          "data": {
            "text/plain": [
              "<IPython.core.display.HTML object>"
            ],
            "text/html": [
              "\n",
              "     <input type=\"file\" id=\"files-44708813-c9e5-4902-9002-c247c1455b48\" name=\"files[]\" multiple disabled\n",
              "        style=\"border:none\" />\n",
              "     <output id=\"result-44708813-c9e5-4902-9002-c247c1455b48\">\n",
              "      Upload widget is only available when the cell has been executed in the\n",
              "      current browser session. Please rerun this cell to enable.\n",
              "      </output>\n",
              "      <script>// Copyright 2017 Google LLC\n",
              "//\n",
              "// Licensed under the Apache License, Version 2.0 (the \"License\");\n",
              "// you may not use this file except in compliance with the License.\n",
              "// You may obtain a copy of the License at\n",
              "//\n",
              "//      http://www.apache.org/licenses/LICENSE-2.0\n",
              "//\n",
              "// Unless required by applicable law or agreed to in writing, software\n",
              "// distributed under the License is distributed on an \"AS IS\" BASIS,\n",
              "// WITHOUT WARRANTIES OR CONDITIONS OF ANY KIND, either express or implied.\n",
              "// See the License for the specific language governing permissions and\n",
              "// limitations under the License.\n",
              "\n",
              "/**\n",
              " * @fileoverview Helpers for google.colab Python module.\n",
              " */\n",
              "(function(scope) {\n",
              "function span(text, styleAttributes = {}) {\n",
              "  const element = document.createElement('span');\n",
              "  element.textContent = text;\n",
              "  for (const key of Object.keys(styleAttributes)) {\n",
              "    element.style[key] = styleAttributes[key];\n",
              "  }\n",
              "  return element;\n",
              "}\n",
              "\n",
              "// Max number of bytes which will be uploaded at a time.\n",
              "const MAX_PAYLOAD_SIZE = 100 * 1024;\n",
              "\n",
              "function _uploadFiles(inputId, outputId) {\n",
              "  const steps = uploadFilesStep(inputId, outputId);\n",
              "  const outputElement = document.getElementById(outputId);\n",
              "  // Cache steps on the outputElement to make it available for the next call\n",
              "  // to uploadFilesContinue from Python.\n",
              "  outputElement.steps = steps;\n",
              "\n",
              "  return _uploadFilesContinue(outputId);\n",
              "}\n",
              "\n",
              "// This is roughly an async generator (not supported in the browser yet),\n",
              "// where there are multiple asynchronous steps and the Python side is going\n",
              "// to poll for completion of each step.\n",
              "// This uses a Promise to block the python side on completion of each step,\n",
              "// then passes the result of the previous step as the input to the next step.\n",
              "function _uploadFilesContinue(outputId) {\n",
              "  const outputElement = document.getElementById(outputId);\n",
              "  const steps = outputElement.steps;\n",
              "\n",
              "  const next = steps.next(outputElement.lastPromiseValue);\n",
              "  return Promise.resolve(next.value.promise).then((value) => {\n",
              "    // Cache the last promise value to make it available to the next\n",
              "    // step of the generator.\n",
              "    outputElement.lastPromiseValue = value;\n",
              "    return next.value.response;\n",
              "  });\n",
              "}\n",
              "\n",
              "/**\n",
              " * Generator function which is called between each async step of the upload\n",
              " * process.\n",
              " * @param {string} inputId Element ID of the input file picker element.\n",
              " * @param {string} outputId Element ID of the output display.\n",
              " * @return {!Iterable<!Object>} Iterable of next steps.\n",
              " */\n",
              "function* uploadFilesStep(inputId, outputId) {\n",
              "  const inputElement = document.getElementById(inputId);\n",
              "  inputElement.disabled = false;\n",
              "\n",
              "  const outputElement = document.getElementById(outputId);\n",
              "  outputElement.innerHTML = '';\n",
              "\n",
              "  const pickedPromise = new Promise((resolve) => {\n",
              "    inputElement.addEventListener('change', (e) => {\n",
              "      resolve(e.target.files);\n",
              "    });\n",
              "  });\n",
              "\n",
              "  const cancel = document.createElement('button');\n",
              "  inputElement.parentElement.appendChild(cancel);\n",
              "  cancel.textContent = 'Cancel upload';\n",
              "  const cancelPromise = new Promise((resolve) => {\n",
              "    cancel.onclick = () => {\n",
              "      resolve(null);\n",
              "    };\n",
              "  });\n",
              "\n",
              "  // Wait for the user to pick the files.\n",
              "  const files = yield {\n",
              "    promise: Promise.race([pickedPromise, cancelPromise]),\n",
              "    response: {\n",
              "      action: 'starting',\n",
              "    }\n",
              "  };\n",
              "\n",
              "  cancel.remove();\n",
              "\n",
              "  // Disable the input element since further picks are not allowed.\n",
              "  inputElement.disabled = true;\n",
              "\n",
              "  if (!files) {\n",
              "    return {\n",
              "      response: {\n",
              "        action: 'complete',\n",
              "      }\n",
              "    };\n",
              "  }\n",
              "\n",
              "  for (const file of files) {\n",
              "    const li = document.createElement('li');\n",
              "    li.append(span(file.name, {fontWeight: 'bold'}));\n",
              "    li.append(span(\n",
              "        `(${file.type || 'n/a'}) - ${file.size} bytes, ` +\n",
              "        `last modified: ${\n",
              "            file.lastModifiedDate ? file.lastModifiedDate.toLocaleDateString() :\n",
              "                                    'n/a'} - `));\n",
              "    const percent = span('0% done');\n",
              "    li.appendChild(percent);\n",
              "\n",
              "    outputElement.appendChild(li);\n",
              "\n",
              "    const fileDataPromise = new Promise((resolve) => {\n",
              "      const reader = new FileReader();\n",
              "      reader.onload = (e) => {\n",
              "        resolve(e.target.result);\n",
              "      };\n",
              "      reader.readAsArrayBuffer(file);\n",
              "    });\n",
              "    // Wait for the data to be ready.\n",
              "    let fileData = yield {\n",
              "      promise: fileDataPromise,\n",
              "      response: {\n",
              "        action: 'continue',\n",
              "      }\n",
              "    };\n",
              "\n",
              "    // Use a chunked sending to avoid message size limits. See b/62115660.\n",
              "    let position = 0;\n",
              "    do {\n",
              "      const length = Math.min(fileData.byteLength - position, MAX_PAYLOAD_SIZE);\n",
              "      const chunk = new Uint8Array(fileData, position, length);\n",
              "      position += length;\n",
              "\n",
              "      const base64 = btoa(String.fromCharCode.apply(null, chunk));\n",
              "      yield {\n",
              "        response: {\n",
              "          action: 'append',\n",
              "          file: file.name,\n",
              "          data: base64,\n",
              "        },\n",
              "      };\n",
              "\n",
              "      let percentDone = fileData.byteLength === 0 ?\n",
              "          100 :\n",
              "          Math.round((position / fileData.byteLength) * 100);\n",
              "      percent.textContent = `${percentDone}% done`;\n",
              "\n",
              "    } while (position < fileData.byteLength);\n",
              "  }\n",
              "\n",
              "  // All done.\n",
              "  yield {\n",
              "    response: {\n",
              "      action: 'complete',\n",
              "    }\n",
              "  };\n",
              "}\n",
              "\n",
              "scope.google = scope.google || {};\n",
              "scope.google.colab = scope.google.colab || {};\n",
              "scope.google.colab._files = {\n",
              "  _uploadFiles,\n",
              "  _uploadFilesContinue,\n",
              "};\n",
              "})(self);\n",
              "</script> "
            ]
          },
          "metadata": {}
        },
        {
          "output_type": "stream",
          "name": "stdout",
          "text": [
            "Saving analista_de_operaciones.csv to analista_de_operaciones.csv\n"
          ]
        }
      ],
      "source": [
        "# llamar rachivo\n",
        "\n",
        "from google.colab import files\n",
        "uploaded = files.upload()\n"
      ]
    },
    {
      "cell_type": "code",
      "source": [
        "# importar los datos\n",
        "\n",
        "import pandas as pd\n",
        "import numpy as np\n",
        "\n",
        "\n",
        "datos = pd.read_csv('analista_de_operaciones.csv', encoding='latin1', header=0)\n",
        "\n",
        "print(datos.shape)\n",
        "print(datos.head())"
      ],
      "metadata": {
        "colab": {
          "base_uri": "https://localhost:8080/"
        },
        "id": "Gx82DL1o-UmK",
        "outputId": "60018031-851e-4f26-b536-affac758f5b6"
      },
      "execution_count": 4,
      "outputs": [
        {
          "output_type": "stream",
          "name": "stdout",
          "text": [
            "(105388, 14)\n",
            "  regional  ciudad codtrabajo       fecha    cuenta      orden  cantidad  \\\n",
            "0   CENTRO  BOGOTA     VENTEC  01/07/2023  15589183  380534979         2   \n",
            "1   CENTRO  BOGOTA    NROUTER  01/07/2023  15434166  380582904         2   \n",
            "2   CENTRO  BOGOTA    NROUTER  01/07/2023  15581974  380597816         2   \n",
            "3   CENTRO  BOGOTA    NROUTER  01/07/2023  15634211  380592700         2   \n",
            "4   CENTRO  BOGOTA    NROUTER  01/07/2023  15589183  380534979         2   \n",
            "\n",
            "                     nombre_tecnico      cedula    tipo_trabajo  \\\n",
            "0         JEISON ADAN MOSQUERA RUIZ  1087782391  VENTAS TECNICO   \n",
            "1  ALEJANDRO MARIO HERNANDEZ PERTUZ  1143432760  VENTAS TECNICO   \n",
            "2         JORGE ENRIQUE RENZA ALVIZ  1130588089  VENTAS TECNICO   \n",
            "3      EYSON FERNANDO IJAJI SAMBONI  1107077888  VENTAS TECNICO   \n",
            "4         JEISON ADAN MOSQUERA RUIZ  1087782391  VENTAS TECNICO   \n",
            "\n",
            "   precio_trabajo  tipo_movil esquema_trabajo  coordinador  \n",
            "0         20028.0  MOTO DOBLE             HFC          NaN  \n",
            "1         33090.0  MOTO DOBLE             HFC          NaN  \n",
            "2         33090.0  MOTO DOBLE             HFC          NaN  \n",
            "3         33090.0  MOTO DOBLE             HFC          NaN  \n",
            "4         33090.0  MOTO DOBLE             HFC          NaN  \n"
          ]
        }
      ]
    },
    {
      "cell_type": "code",
      "source": [
        "# tipo de datos\n",
        "\n",
        "type(datos)"
      ],
      "metadata": {
        "colab": {
          "base_uri": "https://localhost:8080/",
          "height": 204
        },
        "id": "Po9kWT94-cAN",
        "outputId": "440e76b9-cc9b-4ef5-f759-9fab9183d2a0"
      },
      "execution_count": 5,
      "outputs": [
        {
          "output_type": "execute_result",
          "data": {
            "text/plain": [
              "pandas.core.frame.DataFrame"
            ],
            "text/html": [
              "<div style=\"max-width:800px; border: 1px solid var(--colab-border-color);\"><style>\n",
              "      pre.function-repr-contents {\n",
              "        overflow-x: auto;\n",
              "        padding: 8px 12px;\n",
              "        max-height: 500px;\n",
              "      }\n",
              "\n",
              "      pre.function-repr-contents.function-repr-contents-collapsed {\n",
              "        cursor: pointer;\n",
              "        max-height: 100px;\n",
              "      }\n",
              "    </style>\n",
              "    <pre style=\"white-space: initial; background:\n",
              "         var(--colab-secondary-surface-color); padding: 8px 12px;\n",
              "         border-bottom: 1px solid var(--colab-border-color);\"><b>pandas.core.frame.DataFrame</b><br/>def __init__(data=None, index: Axes | None=None, columns: Axes | None=None, dtype: Dtype | None=None, copy: bool | None=None) -&gt; None</pre><pre class=\"function-repr-contents function-repr-contents-collapsed\" style=\"\"><a class=\"filepath\" style=\"display:none\" href=\"#\">/usr/local/lib/python3.11/dist-packages/pandas/core/frame.py</a>Two-dimensional, size-mutable, potentially heterogeneous tabular data.\n",
              "\n",
              "Data structure also contains labeled axes (rows and columns).\n",
              "Arithmetic operations align on both row and column labels. Can be\n",
              "thought of as a dict-like container for Series objects. The primary\n",
              "pandas data structure.\n",
              "\n",
              "Parameters\n",
              "----------\n",
              "data : ndarray (structured or homogeneous), Iterable, dict, or DataFrame\n",
              "    Dict can contain Series, arrays, constants, dataclass or list-like objects. If\n",
              "    data is a dict, column order follows insertion-order. If a dict contains Series\n",
              "    which have an index defined, it is aligned by its index. This alignment also\n",
              "    occurs if data is a Series or a DataFrame itself. Alignment is done on\n",
              "    Series/DataFrame inputs.\n",
              "\n",
              "    If data is a list of dicts, column order follows insertion-order.\n",
              "\n",
              "index : Index or array-like\n",
              "    Index to use for resulting frame. Will default to RangeIndex if\n",
              "    no indexing information part of input data and no index provided.\n",
              "columns : Index or array-like\n",
              "    Column labels to use for resulting frame when data does not have them,\n",
              "    defaulting to RangeIndex(0, 1, 2, ..., n). If data contains column labels,\n",
              "    will perform column selection instead.\n",
              "dtype : dtype, default None\n",
              "    Data type to force. Only a single dtype is allowed. If None, infer.\n",
              "copy : bool or None, default None\n",
              "    Copy data from inputs.\n",
              "    For dict data, the default of None behaves like ``copy=True``.  For DataFrame\n",
              "    or 2d ndarray input, the default of None behaves like ``copy=False``.\n",
              "    If data is a dict containing one or more Series (possibly of different dtypes),\n",
              "    ``copy=False`` will ensure that these inputs are not copied.\n",
              "\n",
              "    .. versionchanged:: 1.3.0\n",
              "\n",
              "See Also\n",
              "--------\n",
              "DataFrame.from_records : Constructor from tuples, also record arrays.\n",
              "DataFrame.from_dict : From dicts of Series, arrays, or dicts.\n",
              "read_csv : Read a comma-separated values (csv) file into DataFrame.\n",
              "read_table : Read general delimited file into DataFrame.\n",
              "read_clipboard : Read text from clipboard into DataFrame.\n",
              "\n",
              "Notes\n",
              "-----\n",
              "Please reference the :ref:`User Guide &lt;basics.dataframe&gt;` for more information.\n",
              "\n",
              "Examples\n",
              "--------\n",
              "Constructing DataFrame from a dictionary.\n",
              "\n",
              "&gt;&gt;&gt; d = {&#x27;col1&#x27;: [1, 2], &#x27;col2&#x27;: [3, 4]}\n",
              "&gt;&gt;&gt; df = pd.DataFrame(data=d)\n",
              "&gt;&gt;&gt; df\n",
              "   col1  col2\n",
              "0     1     3\n",
              "1     2     4\n",
              "\n",
              "Notice that the inferred dtype is int64.\n",
              "\n",
              "&gt;&gt;&gt; df.dtypes\n",
              "col1    int64\n",
              "col2    int64\n",
              "dtype: object\n",
              "\n",
              "To enforce a single dtype:\n",
              "\n",
              "&gt;&gt;&gt; df = pd.DataFrame(data=d, dtype=np.int8)\n",
              "&gt;&gt;&gt; df.dtypes\n",
              "col1    int8\n",
              "col2    int8\n",
              "dtype: object\n",
              "\n",
              "Constructing DataFrame from a dictionary including Series:\n",
              "\n",
              "&gt;&gt;&gt; d = {&#x27;col1&#x27;: [0, 1, 2, 3], &#x27;col2&#x27;: pd.Series([2, 3], index=[2, 3])}\n",
              "&gt;&gt;&gt; pd.DataFrame(data=d, index=[0, 1, 2, 3])\n",
              "   col1  col2\n",
              "0     0   NaN\n",
              "1     1   NaN\n",
              "2     2   2.0\n",
              "3     3   3.0\n",
              "\n",
              "Constructing DataFrame from numpy ndarray:\n",
              "\n",
              "&gt;&gt;&gt; df2 = pd.DataFrame(np.array([[1, 2, 3], [4, 5, 6], [7, 8, 9]]),\n",
              "...                    columns=[&#x27;a&#x27;, &#x27;b&#x27;, &#x27;c&#x27;])\n",
              "&gt;&gt;&gt; df2\n",
              "   a  b  c\n",
              "0  1  2  3\n",
              "1  4  5  6\n",
              "2  7  8  9\n",
              "\n",
              "Constructing DataFrame from a numpy ndarray that has labeled columns:\n",
              "\n",
              "&gt;&gt;&gt; data = np.array([(1, 2, 3), (4, 5, 6), (7, 8, 9)],\n",
              "...                 dtype=[(&quot;a&quot;, &quot;i4&quot;), (&quot;b&quot;, &quot;i4&quot;), (&quot;c&quot;, &quot;i4&quot;)])\n",
              "&gt;&gt;&gt; df3 = pd.DataFrame(data, columns=[&#x27;c&#x27;, &#x27;a&#x27;])\n",
              "...\n",
              "&gt;&gt;&gt; df3\n",
              "   c  a\n",
              "0  3  1\n",
              "1  6  4\n",
              "2  9  7\n",
              "\n",
              "Constructing DataFrame from dataclass:\n",
              "\n",
              "&gt;&gt;&gt; from dataclasses import make_dataclass\n",
              "&gt;&gt;&gt; Point = make_dataclass(&quot;Point&quot;, [(&quot;x&quot;, int), (&quot;y&quot;, int)])\n",
              "&gt;&gt;&gt; pd.DataFrame([Point(0, 0), Point(0, 3), Point(2, 3)])\n",
              "   x  y\n",
              "0  0  0\n",
              "1  0  3\n",
              "2  2  3\n",
              "\n",
              "Constructing DataFrame from Series/DataFrame:\n",
              "\n",
              "&gt;&gt;&gt; ser = pd.Series([1, 2, 3], index=[&quot;a&quot;, &quot;b&quot;, &quot;c&quot;])\n",
              "&gt;&gt;&gt; df = pd.DataFrame(data=ser, index=[&quot;a&quot;, &quot;c&quot;])\n",
              "&gt;&gt;&gt; df\n",
              "   0\n",
              "a  1\n",
              "c  3\n",
              "\n",
              "&gt;&gt;&gt; df1 = pd.DataFrame([1, 2, 3], index=[&quot;a&quot;, &quot;b&quot;, &quot;c&quot;], columns=[&quot;x&quot;])\n",
              "&gt;&gt;&gt; df2 = pd.DataFrame(data=df1, index=[&quot;a&quot;, &quot;c&quot;])\n",
              "&gt;&gt;&gt; df2\n",
              "   x\n",
              "a  1\n",
              "c  3</pre>\n",
              "      <script>\n",
              "      if (google.colab.kernel.accessAllowed && google.colab.files && google.colab.files.view) {\n",
              "        for (const element of document.querySelectorAll('.filepath')) {\n",
              "          element.style.display = 'block'\n",
              "          element.onclick = (event) => {\n",
              "            event.preventDefault();\n",
              "            event.stopPropagation();\n",
              "            google.colab.files.view(element.textContent, 509);\n",
              "          };\n",
              "        }\n",
              "      }\n",
              "      for (const element of document.querySelectorAll('.function-repr-contents')) {\n",
              "        element.onclick = (event) => {\n",
              "          event.preventDefault();\n",
              "          event.stopPropagation();\n",
              "          element.classList.toggle('function-repr-contents-collapsed');\n",
              "        };\n",
              "      }\n",
              "      </script>\n",
              "      </div>"
            ]
          },
          "metadata": {},
          "execution_count": 5
        }
      ]
    },
    {
      "cell_type": "code",
      "source": [
        "# cantidad de datos\n",
        "\n",
        "datos.shape"
      ],
      "metadata": {
        "colab": {
          "base_uri": "https://localhost:8080/"
        },
        "id": "fzsPNjMO-ekk",
        "outputId": "9a9da672-1c75-4476-98b1-57b96d07a30c"
      },
      "execution_count": 6,
      "outputs": [
        {
          "output_type": "execute_result",
          "data": {
            "text/plain": [
              "(105388, 14)"
            ]
          },
          "metadata": {},
          "execution_count": 6
        }
      ]
    },
    {
      "cell_type": "code",
      "source": [
        "# las columnas\n",
        "\n",
        "datos.columns"
      ],
      "metadata": {
        "colab": {
          "base_uri": "https://localhost:8080/"
        },
        "id": "hFHXjzGG-hJb",
        "outputId": "a4ab747a-d550-4ede-a83f-3a0dde95205d"
      },
      "execution_count": 7,
      "outputs": [
        {
          "output_type": "execute_result",
          "data": {
            "text/plain": [
              "Index(['regional', 'ciudad', 'codtrabajo', 'fecha', 'cuenta', 'orden',\n",
              "       'cantidad', 'nombre_tecnico', 'cedula', 'tipo_trabajo',\n",
              "       'precio_trabajo', 'tipo_movil', 'esquema_trabajo', 'coordinador'],\n",
              "      dtype='object')"
            ]
          },
          "metadata": {},
          "execution_count": 7
        }
      ]
    },
    {
      "cell_type": "markdown",
      "source": [
        "# **Promedio Servicio"
      ],
      "metadata": {
        "id": "OiLg6Kn--lcs"
      }
    },
    {
      "cell_type": "code",
      "source": [
        "# promedio de trabajo\n",
        "\n",
        "promedio_precio = round(datos['precio_trabajo'].mean(), 2)\n",
        "print(promedio_precio)\n"
      ],
      "metadata": {
        "colab": {
          "base_uri": "https://localhost:8080/"
        },
        "id": "c68Ss1k6-jkQ",
        "outputId": "58f23011-2b63-441c-d24b-c574533a11ce"
      },
      "execution_count": 8,
      "outputs": [
        {
          "output_type": "stream",
          "name": "stdout",
          "text": [
            "52897.61\n"
          ]
        }
      ]
    },
    {
      "cell_type": "markdown",
      "source": [
        "# **Dataframe Tecnico**\n"
      ],
      "metadata": {
        "id": "I_kh1NxqCNNy"
      }
    },
    {
      "cell_type": "code",
      "source": [
        "# Agrupar por el nombre del técnico\n",
        "df_tecnico = datos.groupby('nombre_tecnico').agg(\n",
        "    Numero_Servicios=('precio_trabajo', 'count'),\n",
        "    Valor_Total=('precio_trabajo', 'sum')\n",
        ").reset_index()\n",
        "\n",
        "# Agregar la columna de clasificación según el Valor Total\n",
        "def clasificar(valor_total):\n",
        "    if valor_total <= 5000000:\n",
        "        return \"MUY MALO\"\n",
        "    elif valor_total <= 10000000:\n",
        "        return \"MALO\"\n",
        "    elif valor_total <= 15000000:\n",
        "        return \"REGULAR\"\n",
        "    elif valor_total <= 20000000:\n",
        "        return \"BUENO\"\n",
        "    else:\n",
        "        return \"EXCELENTE\"\n",
        "\n",
        "df_tecnico['Clasificación'] = df_tecnico['Valor_Total'].apply(clasificar)\n",
        "\n",
        "# Ver el resultado\n",
        "print(df_tecnico)"
      ],
      "metadata": {
        "colab": {
          "base_uri": "https://localhost:8080/"
        },
        "id": "iLC08GknCS0J",
        "outputId": "990cd72e-7b70-4adc-8358-847cc23005c4"
      },
      "execution_count": 9,
      "outputs": [
        {
          "output_type": "stream",
          "name": "stdout",
          "text": [
            "                        nombre_tecnico  Numero_Servicios  Valor_Total  \\\n",
            "0                     ABISAI GIL GOMEZ               161    8179974.0   \n",
            "1          ACERO LEON EDUARD ALEXANDER               116    4196428.0   \n",
            "2           ACOSTA BOSSA JORGE ELIECER               143    6857306.0   \n",
            "3      ADRIAN ALONSO RINCON AVELLANEDA               191   11548276.0   \n",
            "4    AGUDELO RODRIGUEZ FABIAN ESNEIDER                16     667627.0   \n",
            "..                                 ...               ...          ...   \n",
            "698  YILBER NICOLAS BUITRAGO HERNANDEZ                61    2831577.0   \n",
            "699        YONATHA STID MOGOLLON ANAYA                13     445286.0   \n",
            "700  YONATHAN ARLEY CASTILLO GUTIERREZ                92    9167403.0   \n",
            "701         YORFAN SMITH GUIZA VELASCO               116    8527798.0   \n",
            "702      YORMAN ENRIQUE GONZALEZ PABON               170    6093439.0   \n",
            "\n",
            "    Clasificación  \n",
            "0            MALO  \n",
            "1        MUY MALO  \n",
            "2            MALO  \n",
            "3         REGULAR  \n",
            "4        MUY MALO  \n",
            "..            ...  \n",
            "698      MUY MALO  \n",
            "699      MUY MALO  \n",
            "700          MALO  \n",
            "701          MALO  \n",
            "702          MALO  \n",
            "\n",
            "[703 rows x 4 columns]\n"
          ]
        }
      ]
    },
    {
      "cell_type": "code",
      "source": [
        "print(df_tecnico.columns)\n"
      ],
      "metadata": {
        "colab": {
          "base_uri": "https://localhost:8080/"
        },
        "id": "xVy16stsDzEd",
        "outputId": "b4890020-f240-4f46-b9c8-07b195a9fdcb"
      },
      "execution_count": 10,
      "outputs": [
        {
          "output_type": "stream",
          "name": "stdout",
          "text": [
            "Index(['nombre_tecnico', 'Numero_Servicios', 'Valor_Total', 'Clasificación'], dtype='object')\n"
          ]
        }
      ]
    },
    {
      "cell_type": "markdown",
      "source": [
        "## **Exportar la tabla**"
      ],
      "metadata": {
        "id": "4KaoE9wzE2I-"
      }
    },
    {
      "cell_type": "code",
      "source": [
        "# Exportar la tabla\n",
        "\n",
        "df_tecnico.to_csv('df_tecnico.csv', index=False)"
      ],
      "metadata": {
        "id": "0omrA92yE7YN"
      },
      "execution_count": 11,
      "outputs": []
    },
    {
      "cell_type": "code",
      "source": [
        "# Crear un nuevo DataFrame con las columnas FTTH y HFC, agrupado por tipo de móvil\n",
        "df_esquema = datos.pivot_table(\n",
        "    index='tipo_movil',  # Agrupar por tipo de móvil (FTTH o HFC)\n",
        "    columns='esquema_trabajo',  # Diferenciar entre FTTH y HFC\n",
        "    values='precio_trabajo',  # Tomar el valor de precio de trabajo\n",
        "    aggfunc='sum',  # Sumar los valores de precio de trabajo\n",
        "    fill_value=0  # Rellenar con 0 en caso de que no haya datos\n",
        ").reset_index()\n",
        "\n",
        "# Renombrar las columnas para que sean más claras\n",
        "df_esquema.columns.name = None  # Eliminar el nombre de la columna\n",
        "df_esquema.rename(columns={'FTTH': 'Valor_FTTH', 'HFC': 'Valor_HFC'}, inplace=True)\n",
        "\n",
        "# Calcular el porcentaje de cada esquema (FTTH y HFC) respecto al total\n",
        "df_esquema['Porcentaje_FTTH'] = (df_esquema['Valor_FTTH'] / df_esquema[['Valor_FTTH', 'Valor_HFC']].sum(axis=1)) * 100\n",
        "df_esquema['Porcentaje_HFC'] = (df_esquema['Valor_HFC'] / df_esquema[['Valor_FTTH', 'Valor_HFC']].sum(axis=1)) * 100\n",
        "\n",
        "# Ver el resultado\n",
        "print(df_esquema)\n",
        "\n",
        "\n"
      ],
      "metadata": {
        "id": "Yf--qFu1KE2E",
        "outputId": "7755406f-be82-4b0d-fe88-662efd2d6b56",
        "colab": {
          "base_uri": "https://localhost:8080/"
        }
      },
      "execution_count": 12,
      "outputs": [
        {
          "output_type": "stream",
          "name": "stdout",
          "text": [
            "       tipo_movil   Valor_FTTH     Valor_HFC  Porcentaje_FTTH  Porcentaje_HFC\n",
            "0       CAMIONETA  235443776.0  7.047780e+07        76.962136       23.037864\n",
            "1      MOTO DOBLE  955828294.0  2.354512e+09        28.874021       71.125979\n",
            "2   MOTO SENCILLA  111927593.0  7.795048e+08        12.555926       87.444074\n",
            "3  MOTO SENCILLA      118406.0  7.736300e+04        60.482507       39.517493\n",
            "4  MOVIL ARREGLOS  270721047.0  7.809576e+08        25.741802       74.258198\n",
            "5     MOVIL PYMES          0.0  1.520518e+07         0.000000      100.000000\n"
          ]
        }
      ]
    },
    {
      "cell_type": "code",
      "source": [
        "# Crear un nuevo DataFrame con las columnas FTTH y HFC, agrupado por tipo de móvil\n",
        "df_esquema = datos.pivot_table(\n",
        "    index='tipo_movil',  # Agrupar por tipo de móvil (FTTH o HFC)\n",
        "    columns='esquema_trabajo',  # Diferenciar entre FTTH y HFC\n",
        "    values='precio_trabajo',  # Tomar el valor de precio de trabajo\n",
        "    aggfunc='sum',  # Sumar los valores de precio de trabajo\n",
        "    fill_value=0  # Rellenar con 0 en caso de que no haya datos\n",
        ").reset_index()\n",
        "\n",
        "# Renombrar las columnas para que sean más claras\n",
        "df_esquema.columns.name = None  # Eliminar el nombre de la columna\n",
        "df_esquema.rename(columns={'FTTH': 'Valor_FTTH', 'HFC': 'Valor_HFC'}, inplace=True)\n",
        "\n",
        "# Calcular el total combinado de FTTH y HFC\n",
        "df_esquema['Valor_Total'] = df_esquema['Valor_FTTH'] + df_esquema['Valor_HFC']\n",
        "\n",
        "# Calcular el porcentaje de FTTH y HFC respecto al total combinado\n",
        "df_esquema['Porcentaje_FTTH'] = (df_esquema['Valor_FTTH'] / df_esquema['Valor_Total']) * 50\n",
        "df_esquema['Porcentaje_HFC'] = (df_esquema['Valor_HFC'] / df_esquema['Valor_Total']) * 50\n",
        "\n",
        "# Ver el resultado\n",
        "print(df_esquema)\n",
        "\n",
        "\n"
      ],
      "metadata": {
        "id": "AnL8vdNzLYUo",
        "outputId": "4dc7ce28-7d97-4bd1-9058-5bc87b39af85",
        "colab": {
          "base_uri": "https://localhost:8080/"
        }
      },
      "execution_count": 13,
      "outputs": [
        {
          "output_type": "stream",
          "name": "stdout",
          "text": [
            "       tipo_movil   Valor_FTTH     Valor_HFC   Valor_Total  Porcentaje_FTTH  \\\n",
            "0       CAMIONETA  235443776.0  7.047780e+07  3.059216e+08        38.481068   \n",
            "1      MOTO DOBLE  955828294.0  2.354512e+09  3.310340e+09        14.437010   \n",
            "2   MOTO SENCILLA  111927593.0  7.795048e+08  8.914324e+08         6.277963   \n",
            "3  MOTO SENCILLA      118406.0  7.736300e+04  1.957690e+05        30.241254   \n",
            "4  MOVIL ARREGLOS  270721047.0  7.809576e+08  1.051679e+09        12.870901   \n",
            "5     MOVIL PYMES          0.0  1.520518e+07  1.520518e+07         0.000000   \n",
            "\n",
            "   Porcentaje_HFC  \n",
            "0       11.518932  \n",
            "1       35.562990  \n",
            "2       43.722037  \n",
            "3       19.758746  \n",
            "4       37.129099  \n",
            "5       50.000000  \n"
          ]
        }
      ]
    },
    {
      "cell_type": "code",
      "source": [
        "# Agrupar por 'tipo_movil' y 'esquema_trabajo'\n",
        "df_agrupado = datos.groupby(['tipo_movil', 'esquema_trabajo']).agg(\n",
        "    Valor_Total=('precio_trabajo', 'sum')  # Sumar el precio de trabajo\n",
        ").reset_index()\n",
        "\n",
        "# Calcular el valor total global\n",
        "total_global = datos['precio_trabajo'].sum()\n",
        "\n",
        "# Calcular el porcentaje de cada grupo\n",
        "df_agrupado['Porcentaje'] = (df_agrupado['Valor_Total'] / total_global) * 100\n",
        "\n",
        "# Ver el resultado\n",
        "print(df_agrupado)\n"
      ],
      "metadata": {
        "id": "wTeVc2Bt24-J",
        "outputId": "bb85c5c9-2bb7-4ea5-8a31-caf89a2fdfb9",
        "colab": {
          "base_uri": "https://localhost:8080/"
        }
      },
      "execution_count": 14,
      "outputs": [
        {
          "output_type": "stream",
          "name": "stdout",
          "text": [
            "        tipo_movil esquema_trabajo   Valor_Total  Porcentaje\n",
            "0        CAMIONETA            FTTH  2.354438e+08    4.223378\n",
            "1        CAMIONETA             HFC  7.047780e+07    1.264227\n",
            "2       MOTO DOBLE            FTTH  9.558283e+08   17.145598\n",
            "3       MOTO DOBLE             HFC  2.354512e+09   42.235110\n",
            "4    MOTO SENCILLA            FTTH  1.119276e+08    2.007751\n",
            "5    MOTO SENCILLA             HFC  7.795048e+08   13.982717\n",
            "6   MOTO SENCILLA             FTTH  1.184060e+05    0.002124\n",
            "7   MOTO SENCILLA              HFC  7.736300e+04    0.001388\n",
            "8   MOVIL ARREGLOS            FTTH  2.707210e+08    4.856180\n",
            "9   MOVIL ARREGLOS             HFC  7.809576e+08   14.008777\n",
            "10     MOVIL PYMES             HFC  1.520518e+07    0.272750\n"
          ]
        }
      ]
    }
  ]
}